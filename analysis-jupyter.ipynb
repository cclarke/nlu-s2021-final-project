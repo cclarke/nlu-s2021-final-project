{
 "cells": [
  {
   "cell_type": "code",
   "execution_count": 17,
   "metadata": {},
   "outputs": [],
   "source": [
    "out = \"\"\"\n",
    "args: Namespace(model_output='out/', train=False, train_dataset=None, evaluate=True, model_input='/scratch/pw1329/nlu-s2021-final-project/models/sbc-model-new/', no_cuda=False, batch_size=2, eval_dataset='ted_talks_iwslt', eval_all=False)\n",
    "predictions: [tensor([-0.8143, -1.0416,  1.1337]), tensor([-0.3493, -0.6984,  0.8503]), tensor([ 0.1069, -0.8112,  0.8317]), tensor([ 0.7548, -0.5824,  0.4057])]\n",
    "ayy lmao | tensor([-0.8143, -1.0416,  1.1337])\n",
    "ayy lmao2 | tensor([-0.8143, -1.0416,  1.1337])\n",
    "ayy lmao3 | tensor([-0.8143, -1.0416,  1.1337])\n",
    "\n",
    "\"\"\""
   ]
  },
  {
   "cell_type": "code",
   "execution_count": 18,
   "metadata": {},
   "outputs": [],
   "source": [
    "import pandas as pd"
   ]
  },
  {
   "cell_type": "code",
   "execution_count": 26,
   "metadata": {},
   "outputs": [],
   "source": [
    "from io import StringIO"
   ]
  },
  {
   "cell_type": "code",
   "execution_count": 27,
   "metadata": {},
   "outputs": [],
   "source": [
    "outfile = StringIO(out)"
   ]
  },
  {
   "cell_type": "code",
   "execution_count": 28,
   "metadata": {},
   "outputs": [],
   "source": [
    "df = pd.read_csv(outfile, delimiter=\"|\", skiprows=3, names=[\"sentence\", \"predictions\"])"
   ]
  },
  {
   "cell_type": "code",
   "execution_count": 29,
   "metadata": {},
   "outputs": [
    {
     "data": {
      "text/html": [
       "<div>\n",
       "<style scoped>\n",
       "    .dataframe tbody tr th:only-of-type {\n",
       "        vertical-align: middle;\n",
       "    }\n",
       "\n",
       "    .dataframe tbody tr th {\n",
       "        vertical-align: top;\n",
       "    }\n",
       "\n",
       "    .dataframe thead th {\n",
       "        text-align: right;\n",
       "    }\n",
       "</style>\n",
       "<table border=\"1\" class=\"dataframe\">\n",
       "  <thead>\n",
       "    <tr style=\"text-align: right;\">\n",
       "      <th></th>\n",
       "      <th>sentence</th>\n",
       "      <th>predictions</th>\n",
       "    </tr>\n",
       "  </thead>\n",
       "  <tbody>\n",
       "    <tr>\n",
       "      <th>0</th>\n",
       "      <td>ayy lmao</td>\n",
       "      <td>tensor([-0.8143, -1.0416,  1.1337])</td>\n",
       "    </tr>\n",
       "    <tr>\n",
       "      <th>1</th>\n",
       "      <td>ayy lmao2</td>\n",
       "      <td>tensor([-0.8143, -1.0416,  1.1337])</td>\n",
       "    </tr>\n",
       "    <tr>\n",
       "      <th>2</th>\n",
       "      <td>ayy lmao3</td>\n",
       "      <td>tensor([-0.8143, -1.0416,  1.1337])</td>\n",
       "    </tr>\n",
       "  </tbody>\n",
       "</table>\n",
       "</div>"
      ],
      "text/plain": [
       "     sentence                           predictions\n",
       "0   ayy lmao    tensor([-0.8143, -1.0416,  1.1337])\n",
       "1  ayy lmao2    tensor([-0.8143, -1.0416,  1.1337])\n",
       "2  ayy lmao3    tensor([-0.8143, -1.0416,  1.1337])"
      ]
     },
     "execution_count": 29,
     "metadata": {},
     "output_type": "execute_result"
    }
   ],
   "source": [
    "df"
   ]
  },
  {
   "cell_type": "code",
   "execution_count": 30,
   "metadata": {},
   "outputs": [
    {
     "data": {
      "text/plain": [
       "0     [-0.8143, -1.0416,  1.1337]\n",
       "1     [-0.8143, -1.0416,  1.1337]\n",
       "2     [-0.8143, -1.0416,  1.1337]\n",
       "Name: predictions, dtype: object"
      ]
     },
     "execution_count": 30,
     "metadata": {},
     "output_type": "execute_result"
    }
   ],
   "source": [
    "df[\"predictions\"].apply(lambda x: x.replace(\"tensor(\", \"\").replace(\")\", \"\"))"
   ]
  },
  {
   "cell_type": "code",
   "execution_count": 37,
   "metadata": {},
   "outputs": [],
   "source": [
    "df[\"new_preds\"] = df[\"predictions\"].apply(lambda x: x.replace(\"tensor(\", \"\").replace(\")\", \"\"))"
   ]
  },
  {
   "cell_type": "code",
   "execution_count": 43,
   "metadata": {},
   "outputs": [
    {
     "data": {
      "text/html": [
       "<div>\n",
       "<style scoped>\n",
       "    .dataframe tbody tr th:only-of-type {\n",
       "        vertical-align: middle;\n",
       "    }\n",
       "\n",
       "    .dataframe tbody tr th {\n",
       "        vertical-align: top;\n",
       "    }\n",
       "\n",
       "    .dataframe thead th {\n",
       "        text-align: right;\n",
       "    }\n",
       "</style>\n",
       "<table border=\"1\" class=\"dataframe\">\n",
       "  <thead>\n",
       "    <tr style=\"text-align: right;\">\n",
       "      <th></th>\n",
       "      <th>sentence</th>\n",
       "      <th>predictions</th>\n",
       "      <th>new_preds</th>\n",
       "      <th>prediction0</th>\n",
       "      <th>prediction1</th>\n",
       "      <th>prediction2</th>\n",
       "    </tr>\n",
       "  </thead>\n",
       "  <tbody>\n",
       "    <tr>\n",
       "      <th>0</th>\n",
       "      <td>ayy lmao</td>\n",
       "      <td>tensor([-0.8143, -1.0416,  1.1337])</td>\n",
       "      <td>[-0.8143, -1.0416,  1.1337]</td>\n",
       "      <td>-0.8143</td>\n",
       "      <td>-1.0416</td>\n",
       "      <td>1.1337</td>\n",
       "    </tr>\n",
       "    <tr>\n",
       "      <th>1</th>\n",
       "      <td>ayy lmao2</td>\n",
       "      <td>tensor([-0.8143, -1.0416,  1.1337])</td>\n",
       "      <td>[-0.8143, -1.0416,  1.1337]</td>\n",
       "      <td>-0.8143</td>\n",
       "      <td>-1.0416</td>\n",
       "      <td>1.1337</td>\n",
       "    </tr>\n",
       "    <tr>\n",
       "      <th>2</th>\n",
       "      <td>ayy lmao3</td>\n",
       "      <td>tensor([-0.8143, -1.0416,  1.1337])</td>\n",
       "      <td>[-0.8143, -1.0416,  1.1337]</td>\n",
       "      <td>-0.8143</td>\n",
       "      <td>-1.0416</td>\n",
       "      <td>1.1337</td>\n",
       "    </tr>\n",
       "  </tbody>\n",
       "</table>\n",
       "</div>"
      ],
      "text/plain": [
       "     sentence                           predictions  \\\n",
       "0   ayy lmao    tensor([-0.8143, -1.0416,  1.1337])   \n",
       "1  ayy lmao2    tensor([-0.8143, -1.0416,  1.1337])   \n",
       "2  ayy lmao3    tensor([-0.8143, -1.0416,  1.1337])   \n",
       "\n",
       "                      new_preds  prediction0  prediction1  prediction2  \n",
       "0   [-0.8143, -1.0416,  1.1337]      -0.8143      -1.0416       1.1337  \n",
       "1   [-0.8143, -1.0416,  1.1337]      -0.8143      -1.0416       1.1337  \n",
       "2   [-0.8143, -1.0416,  1.1337]      -0.8143      -1.0416       1.1337  "
      ]
     },
     "execution_count": 43,
     "metadata": {},
     "output_type": "execute_result"
    }
   ],
   "source": [
    "df.join(pd.DataFrame(df[\"new_preds\"].apply(tensor_split_mapper).tolist()))"
   ]
  },
  {
   "cell_type": "code",
   "execution_count": 56,
   "metadata": {},
   "outputs": [],
   "source": [
    "# for number in [123, 123, 123]:\n",
    "# create column named prediction0, prediction1, prediction2\n",
    "# new columns names = range(len(eval(tensor string)))\n",
    "# apply for all N\n",
    "\n",
    "def tensor_split_mapper(input_tensor):\n",
    "    # return a dictionary for each row \n",
    "    input_parsed_tensor = eval(input_tensor)\n",
    "    prediction_counts = len(input_parsed_tensor)\n",
    "    out = {}\n",
    "    for prediction_num in range(0, prediction_counts):\n",
    "        out[f\"prediction{prediction_num}\"] = input_parsed_tensor[prediction_num]\n",
    "    return out\n",
    "    \n",
    "\n",
    "\n",
    "\n",
    "def read_outfile(outfile_name, delimiter=\"|\", skiprows=2, split_tensor=True):\n",
    "    df = pd.read_csv(outfile_name, delimiter=delimiter, skiprows=skiprows, names=[\"sentence\", \"predictions\"])\n",
    "    df[\"predictions\"] = df[\"predictions\"].apply(lambda x: x.replace(\"tensor(\", \"\").replace(\")\", \"\"))\n",
    "    if split_tensor:\n",
    "        df = df.join(pd.DataFrame(df[\"predictions\"].apply(tensor_split_mapper).tolist()))\n",
    "    return df"
   ]
  },
  {
   "cell_type": "code",
   "execution_count": 57,
   "metadata": {},
   "outputs": [
    {
     "data": {
      "text/plain": [
       "{'prediction0': 123, 'prediction1': 234, 'prediction2': 678}"
      ]
     },
     "execution_count": 57,
     "metadata": {},
     "output_type": "execute_result"
    }
   ],
   "source": [
    "tensor_split_mapper(\"[123, 234, 678]\")"
   ]
  },
  {
   "cell_type": "code",
   "execution_count": 59,
   "metadata": {},
   "outputs": [],
   "source": [
    "df = read_outfile(\"dummy.out\")"
   ]
  },
  {
   "cell_type": "code",
   "execution_count": 63,
   "metadata": {},
   "outputs": [
    {
     "data": {
      "text/html": [
       "<div>\n",
       "<style scoped>\n",
       "    .dataframe tbody tr th:only-of-type {\n",
       "        vertical-align: middle;\n",
       "    }\n",
       "\n",
       "    .dataframe tbody tr th {\n",
       "        vertical-align: top;\n",
       "    }\n",
       "\n",
       "    .dataframe thead th {\n",
       "        text-align: right;\n",
       "    }\n",
       "</style>\n",
       "<table border=\"1\" class=\"dataframe\">\n",
       "  <thead>\n",
       "    <tr style=\"text-align: right;\">\n",
       "      <th></th>\n",
       "      <th>prediction0</th>\n",
       "      <th>prediction1</th>\n",
       "      <th>prediction2</th>\n",
       "    </tr>\n",
       "  </thead>\n",
       "  <tbody>\n",
       "    <tr>\n",
       "      <th>count</th>\n",
       "      <td>5.0000</td>\n",
       "      <td>5.0000</td>\n",
       "      <td>5.000000</td>\n",
       "    </tr>\n",
       "    <tr>\n",
       "      <th>mean</th>\n",
       "      <td>-0.8143</td>\n",
       "      <td>-1.0416</td>\n",
       "      <td>22288.480220</td>\n",
       "    </tr>\n",
       "    <tr>\n",
       "      <th>std</th>\n",
       "      <td>0.0000</td>\n",
       "      <td>0.0000</td>\n",
       "      <td>49779.653187</td>\n",
       "    </tr>\n",
       "    <tr>\n",
       "      <th>min</th>\n",
       "      <td>-0.8143</td>\n",
       "      <td>-1.0416</td>\n",
       "      <td>0.000000</td>\n",
       "    </tr>\n",
       "    <tr>\n",
       "      <th>25%</th>\n",
       "      <td>-0.8143</td>\n",
       "      <td>-1.0416</td>\n",
       "      <td>1.133700</td>\n",
       "    </tr>\n",
       "    <tr>\n",
       "      <th>50%</th>\n",
       "      <td>-0.8143</td>\n",
       "      <td>-1.0416</td>\n",
       "      <td>6.133700</td>\n",
       "    </tr>\n",
       "    <tr>\n",
       "      <th>75%</th>\n",
       "      <td>-0.8143</td>\n",
       "      <td>-1.0416</td>\n",
       "      <td>98.133700</td>\n",
       "    </tr>\n",
       "    <tr>\n",
       "      <th>max</th>\n",
       "      <td>-0.8143</td>\n",
       "      <td>-1.0416</td>\n",
       "      <td>111337.000000</td>\n",
       "    </tr>\n",
       "  </tbody>\n",
       "</table>\n",
       "</div>"
      ],
      "text/plain": [
       "       prediction0  prediction1    prediction2\n",
       "count       5.0000       5.0000       5.000000\n",
       "mean       -0.8143      -1.0416   22288.480220\n",
       "std         0.0000       0.0000   49779.653187\n",
       "min        -0.8143      -1.0416       0.000000\n",
       "25%        -0.8143      -1.0416       1.133700\n",
       "50%        -0.8143      -1.0416       6.133700\n",
       "75%        -0.8143      -1.0416      98.133700\n",
       "max        -0.8143      -1.0416  111337.000000"
      ]
     },
     "execution_count": 63,
     "metadata": {},
     "output_type": "execute_result"
    }
   ],
   "source": [
    "df.describe()"
   ]
  },
  {
   "cell_type": "code",
   "execution_count": 61,
   "metadata": {},
   "outputs": [
    {
     "data": {
      "text/html": [
       "<div>\n",
       "<style scoped>\n",
       "    .dataframe tbody tr th:only-of-type {\n",
       "        vertical-align: middle;\n",
       "    }\n",
       "\n",
       "    .dataframe tbody tr th {\n",
       "        vertical-align: top;\n",
       "    }\n",
       "\n",
       "    .dataframe thead th {\n",
       "        text-align: right;\n",
       "    }\n",
       "</style>\n",
       "<table border=\"1\" class=\"dataframe\">\n",
       "  <thead>\n",
       "    <tr style=\"text-align: right;\">\n",
       "      <th></th>\n",
       "      <th>prediction0</th>\n",
       "      <th>prediction1</th>\n",
       "      <th>prediction2</th>\n",
       "    </tr>\n",
       "  </thead>\n",
       "  <tbody>\n",
       "    <tr>\n",
       "      <th>prediction0</th>\n",
       "      <td>0.0</td>\n",
       "      <td>0.0</td>\n",
       "      <td>0.000000e+00</td>\n",
       "    </tr>\n",
       "    <tr>\n",
       "      <th>prediction1</th>\n",
       "      <td>0.0</td>\n",
       "      <td>0.0</td>\n",
       "      <td>0.000000e+00</td>\n",
       "    </tr>\n",
       "    <tr>\n",
       "      <th>prediction2</th>\n",
       "      <td>0.0</td>\n",
       "      <td>0.0</td>\n",
       "      <td>2.478014e+09</td>\n",
       "    </tr>\n",
       "  </tbody>\n",
       "</table>\n",
       "</div>"
      ],
      "text/plain": [
       "             prediction0  prediction1   prediction2\n",
       "prediction0          0.0          0.0  0.000000e+00\n",
       "prediction1          0.0          0.0  0.000000e+00\n",
       "prediction2          0.0          0.0  2.478014e+09"
      ]
     },
     "execution_count": 61,
     "metadata": {},
     "output_type": "execute_result"
    }
   ],
   "source": []
  },
  {
   "cell_type": "code",
   "execution_count": null,
   "metadata": {},
   "outputs": [],
   "source": []
  }
 ],
 "metadata": {
  "kernelspec": {
   "display_name": "Python 3",
   "language": "python",
   "name": "python3"
  },
  "language_info": {
   "codemirror_mode": {
    "name": "ipython",
    "version": 3
   },
   "file_extension": ".py",
   "mimetype": "text/x-python",
   "name": "python",
   "nbconvert_exporter": "python",
   "pygments_lexer": "ipython3",
   "version": "3.8.3"
  }
 },
 "nbformat": 4,
 "nbformat_minor": 4
}
