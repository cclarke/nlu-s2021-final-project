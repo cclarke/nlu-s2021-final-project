{
 "cells": [
  {
   "cell_type": "code",
   "execution_count": 1,
   "metadata": {},
   "outputs": [],
   "source": [
    "import pandas as pd\n",
    "import relabel_funcs\n",
    "from analysis import read_dfs"
   ]
  },
  {
   "cell_type": "code",
   "execution_count": 2,
   "metadata": {},
   "outputs": [
    {
     "name": "stdout",
     "output_type": "stream",
     "text": [
      "01:05:10-conv_ai_3-train-eval_sbc.out\r\n",
      "01:05:10-conv_ai_3-train-partial-predictions-eval_sbc.out\r\n",
      "01:26:28-conv_ai_3-validation-eval_sbc.out\r\n",
      "01:26:28-conv_ai_3-validation-partial-predictions-eval_sbc.out\r\n",
      "02:05:13-conv_ai_3-train-eval_rtgender.out\r\n",
      "02:05:13-conv_ai_3-train-partial-predictions-eval_rtgender.out\r\n",
      "02:27:05-conv_ai_3-validation-eval_rtgender.out\r\n",
      "02:27:05-conv_ai_3-validation-partial-predictions-eval_rtgender.out\r\n",
      "02:32:58-ted_talks_iwslt-train-eval_rtgender.out\r\n",
      "02:32:58-ted_talks_iwslt-train-partial-predictions-eval_rtgender.out\r\n",
      "02:39:43-ted_talks_iwslt-train-eval_rtgender.out\r\n",
      "02:39:43-ted_talks_iwslt-train-partial-predictions-eval_rtgender.out\r\n",
      "02:47:59-ted_talks_iwslt-train-eval_sbc.out\r\n",
      "02:47:59-ted_talks_iwslt-train-partial-predictions-eval_sbc.out\r\n",
      "02:54:48-ted_talks_iwslt-train-eval_sbc.out\r\n",
      "02:54:48-ted_talks_iwslt-train-partial-predictions-eval_sbc.out\r\n"
     ]
    }
   ],
   "source": [
    "!ls results"
   ]
  },
  {
   "cell_type": "code",
   "execution_count": 5,
   "metadata": {},
   "outputs": [],
   "source": [
    "# for using sbc and rt_gender for conv_ai\n",
    "sbc_conv, rt_gender_conv, sbc_rt_conv = read_dfs(\"results/01:05:10-conv_ai_3-train-eval_sbc.out\", \n",
    "                                                \"results/02:05:13-conv_ai_3-train-eval_rtgender.out\",\n",
    "                                                suffixes=('_sbc', '_rt'))"
   ]
  },
  {
   "cell_type": "code",
   "execution_count": 8,
   "metadata": {},
   "outputs": [
    {
     "data": {
      "text/html": [
       "<div>\n",
       "<style scoped>\n",
       "    .dataframe tbody tr th:only-of-type {\n",
       "        vertical-align: middle;\n",
       "    }\n",
       "\n",
       "    .dataframe tbody tr th {\n",
       "        vertical-align: top;\n",
       "    }\n",
       "\n",
       "    .dataframe thead th {\n",
       "        text-align: right;\n",
       "    }\n",
       "</style>\n",
       "<table border=\"1\" class=\"dataframe\">\n",
       "  <thead>\n",
       "    <tr style=\"text-align: right;\">\n",
       "      <th></th>\n",
       "      <th>sentence</th>\n",
       "      <th>predictions_sbc</th>\n",
       "      <th>predictions_rt</th>\n",
       "    </tr>\n",
       "  </thead>\n",
       "  <tbody>\n",
       "    <tr>\n",
       "      <th>0</th>\n",
       "      <td>yes am interested in obamas family</td>\n",
       "      <td>[ 1.0437, -0.6024,  0.1484]</td>\n",
       "      <td>[-0.6332,  0.6919, -0.8456,  1.1478]</td>\n",
       "    </tr>\n",
       "    <tr>\n",
       "      <th>1</th>\n",
       "      <td>yes i want to know who made up his family</td>\n",
       "      <td>[ 1.8043, -0.6631, -0.1103]</td>\n",
       "      <td>[ 0.0839,  0.8344, -0.6998,  0.4989]</td>\n",
       "    </tr>\n",
       "    <tr>\n",
       "      <th>2</th>\n",
       "      <td>yes this is what am looking for</td>\n",
       "      <td>[ 2.2968, -0.6913, -0.4568]</td>\n",
       "      <td>[ 0.1760,  1.0104, -0.1068, -0.0493]</td>\n",
       "    </tr>\n",
       "    <tr>\n",
       "      <th>3</th>\n",
       "      <td>no find the barack obamas family tree time mag...</td>\n",
       "      <td>[ 1.2287, -0.5359,  0.0472]</td>\n",
       "      <td>[-0.6308,  0.5328, -0.9213,  1.2233]</td>\n",
       "    </tr>\n",
       "    <tr>\n",
       "      <th>4</th>\n",
       "      <td>no i need the specific time magazine article t...</td>\n",
       "      <td>[ 1.1137, -0.4908,  0.1666]</td>\n",
       "      <td>[-0.0311,  1.0237, -0.6594,  0.5907]</td>\n",
       "    </tr>\n",
       "  </tbody>\n",
       "</table>\n",
       "</div>"
      ],
      "text/plain": [
       "                                            sentence  \\\n",
       "0                yes am interested in obamas family    \n",
       "1         yes i want to know who made up his family    \n",
       "2                   yes this is what am looking for    \n",
       "3  no find the barack obamas family tree time mag...   \n",
       "4  no i need the specific time magazine article t...   \n",
       "\n",
       "                predictions_sbc                         predictions_rt  \n",
       "0   [ 1.0437, -0.6024,  0.1484]   [-0.6332,  0.6919, -0.8456,  1.1478]  \n",
       "1   [ 1.8043, -0.6631, -0.1103]   [ 0.0839,  0.8344, -0.6998,  0.4989]  \n",
       "2   [ 2.2968, -0.6913, -0.4568]   [ 0.1760,  1.0104, -0.1068, -0.0493]  \n",
       "3   [ 1.2287, -0.5359,  0.0472]   [-0.6308,  0.5328, -0.9213,  1.2233]  \n",
       "4   [ 1.1137, -0.4908,  0.1666]   [-0.0311,  1.0237, -0.6594,  0.5907]  "
      ]
     },
     "execution_count": 8,
     "metadata": {},
     "output_type": "execute_result"
    }
   ],
   "source": [
    "sbc_rt_conv[[\"sentence\", \"predictions_sbc\", \"predictions_rt\"]].head()"
   ]
  },
  {
   "cell_type": "code",
   "execution_count": null,
   "metadata": {},
   "outputs": [],
   "source": [
    "# for each prediction in predictions_sbc and predictions_rt, return the categorical variable and the "
   ]
  }
 ],
 "metadata": {
  "kernelspec": {
   "display_name": "Python 3",
   "language": "python",
   "name": "python3"
  },
  "language_info": {
   "codemirror_mode": {
    "name": "ipython",
    "version": 3
   },
   "file_extension": ".py",
   "mimetype": "text/x-python",
   "name": "python",
   "nbconvert_exporter": "python",
   "pygments_lexer": "ipython3",
   "version": "3.8.2"
  }
 },
 "nbformat": 4,
 "nbformat_minor": 4
}
