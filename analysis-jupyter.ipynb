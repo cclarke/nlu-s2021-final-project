{
 "cells": [
  {
   "cell_type": "code",
   "execution_count": 1,
   "metadata": {},
   "outputs": [],
   "source": [
    "import pandas as pd\n",
    "import analysis_relabel_funcs\n",
    "from analysis import read_dfs\n",
    "import torch\n",
    "from sklearn.preprocessing import StandardScaler\n",
    "from scipy.stats import chi2_contingency\n",
    "\n",
    "import seaborn as sns\n",
    "import matplotlib.pyplot as plt\n",
    "%matplotlib inline"
   ]
  },
  {
   "cell_type": "code",
   "execution_count": 2,
   "metadata": {},
   "outputs": [
    {
     "name": "stdout",
     "output_type": "stream",
     "text": [
      "01:05:10-conv_ai_3-train-eval_sbc.out\r\n",
      "01:05:10-conv_ai_3-train-partial-predictions-eval_sbc.out\r\n",
      "01:26:28-conv_ai_3-validation-eval_sbc.out\r\n",
      "01:26:28-conv_ai_3-validation-partial-predictions-eval_sbc.out\r\n",
      "02:05:13-conv_ai_3-train-eval_rtgender.out\r\n",
      "02:05:13-conv_ai_3-train-partial-predictions-eval_rtgender.out\r\n",
      "02:27:05-conv_ai_3-validation-eval_rtgender.out\r\n",
      "02:27:05-conv_ai_3-validation-partial-predictions-eval_rtgender.out\r\n",
      "02:32:58-ted_talks_iwslt-train-eval_rtgender.out\r\n",
      "02:32:58-ted_talks_iwslt-train-partial-predictions-eval_rtgender.out\r\n",
      "02:39:43-ted_talks_iwslt-train-eval_rtgender.out\r\n",
      "02:39:43-ted_talks_iwslt-train-partial-predictions-eval_rtgender.out\r\n",
      "02:47:59-ted_talks_iwslt-train-eval_sbc.out\r\n",
      "02:47:59-ted_talks_iwslt-train-partial-predictions-eval_sbc.out\r\n",
      "02:54:48-ted_talks_iwslt-train-eval_sbc.out\r\n",
      "02:54:48-ted_talks_iwslt-train-partial-predictions-eval_sbc.out\r\n"
     ]
    }
   ],
   "source": [
    "!ls results"
   ]
  },
  {
   "cell_type": "code",
   "execution_count": 3,
   "metadata": {},
   "outputs": [],
   "source": [
    "# for using sbc and rt_gender for conv_ai\n",
    "sbc_conv, rt_gender_conv, sbc_rt_conv = read_dfs(\"results/01:05:10-conv_ai_3-train-eval_sbc.out\", \n",
    "                                                \"results/02:05:13-conv_ai_3-train-eval_rtgender.out\",\n",
    "                                                suffixes=('_sbf', '_rt'))"
   ]
  },
  {
   "cell_type": "code",
   "execution_count": 4,
   "metadata": {},
   "outputs": [
    {
     "data": {
      "text/html": [
       "<div>\n",
       "<style scoped>\n",
       "    .dataframe tbody tr th:only-of-type {\n",
       "        vertical-align: middle;\n",
       "    }\n",
       "\n",
       "    .dataframe tbody tr th {\n",
       "        vertical-align: top;\n",
       "    }\n",
       "\n",
       "    .dataframe thead th {\n",
       "        text-align: right;\n",
       "    }\n",
       "</style>\n",
       "<table border=\"1\" class=\"dataframe\">\n",
       "  <thead>\n",
       "    <tr style=\"text-align: right;\">\n",
       "      <th></th>\n",
       "      <th>sentence</th>\n",
       "      <th>predictions_sbf</th>\n",
       "      <th>predictions_rt</th>\n",
       "    </tr>\n",
       "  </thead>\n",
       "  <tbody>\n",
       "    <tr>\n",
       "      <th>0</th>\n",
       "      <td>yes am interested in obamas family</td>\n",
       "      <td>[tensor(1.0437), tensor(-0.6024), tensor(0.1484)]</td>\n",
       "      <td>[tensor(-0.6332), tensor(0.6919), tensor(-0.84...</td>\n",
       "    </tr>\n",
       "    <tr>\n",
       "      <th>1</th>\n",
       "      <td>yes i want to know who made up his family</td>\n",
       "      <td>[tensor(1.8043), tensor(-0.6631), tensor(-0.11...</td>\n",
       "      <td>[tensor(0.0839), tensor(0.8344), tensor(-0.699...</td>\n",
       "    </tr>\n",
       "    <tr>\n",
       "      <th>2</th>\n",
       "      <td>yes this is what am looking for</td>\n",
       "      <td>[tensor(2.2968), tensor(-0.6913), tensor(-0.45...</td>\n",
       "      <td>[tensor(0.1760), tensor(1.0104), tensor(-0.106...</td>\n",
       "    </tr>\n",
       "    <tr>\n",
       "      <th>3</th>\n",
       "      <td>no find the barack obamas family tree time mag...</td>\n",
       "      <td>[tensor(1.2287), tensor(-0.5359), tensor(0.0472)]</td>\n",
       "      <td>[tensor(-0.6308), tensor(0.5328), tensor(-0.92...</td>\n",
       "    </tr>\n",
       "    <tr>\n",
       "      <th>4</th>\n",
       "      <td>no i need the specific time magazine article t...</td>\n",
       "      <td>[tensor(1.1137), tensor(-0.4908), tensor(0.1666)]</td>\n",
       "      <td>[tensor(-0.0311), tensor(1.0237), tensor(-0.65...</td>\n",
       "    </tr>\n",
       "  </tbody>\n",
       "</table>\n",
       "</div>"
      ],
      "text/plain": [
       "                                            sentence  \\\n",
       "0                yes am interested in obamas family    \n",
       "1         yes i want to know who made up his family    \n",
       "2                   yes this is what am looking for    \n",
       "3  no find the barack obamas family tree time mag...   \n",
       "4  no i need the specific time magazine article t...   \n",
       "\n",
       "                                     predictions_sbf  \\\n",
       "0  [tensor(1.0437), tensor(-0.6024), tensor(0.1484)]   \n",
       "1  [tensor(1.8043), tensor(-0.6631), tensor(-0.11...   \n",
       "2  [tensor(2.2968), tensor(-0.6913), tensor(-0.45...   \n",
       "3  [tensor(1.2287), tensor(-0.5359), tensor(0.0472)]   \n",
       "4  [tensor(1.1137), tensor(-0.4908), tensor(0.1666)]   \n",
       "\n",
       "                                      predictions_rt  \n",
       "0  [tensor(-0.6332), tensor(0.6919), tensor(-0.84...  \n",
       "1  [tensor(0.0839), tensor(0.8344), tensor(-0.699...  \n",
       "2  [tensor(0.1760), tensor(1.0104), tensor(-0.106...  \n",
       "3  [tensor(-0.6308), tensor(0.5328), tensor(-0.92...  \n",
       "4  [tensor(-0.0311), tensor(1.0237), tensor(-0.65...  "
      ]
     },
     "execution_count": 4,
     "metadata": {},
     "output_type": "execute_result"
    }
   ],
   "source": [
    "sbc_rt_conv[[\"sentence\", \"predictions_sbf\", \"predictions_rt\"]].head()"
   ]
  },
  {
   "cell_type": "code",
   "execution_count": 5,
   "metadata": {},
   "outputs": [],
   "source": [
    "# for each prediction in predictions_sbc and predictions_rt, \n",
    "# return the categorical variable and the score using the relabel_funcs\n",
    "\n",
    "s = sbc_rt_conv[\"predictions_sbf\"].map(analysis_relabel_funcs.return_social_bias_frames)\n",
    "s = pd.DataFrame(s.tolist(), columns=[\"scores_sbf\", \"category_sbf\"])\n",
    "s[\"scores_sbf\"] = s[\"scores_sbf\"].map(lambda x: x.item()) # comes back as a tensor, change it to float\n",
    "sbc_rt_conv = sbc_rt_conv.join(s)\n",
    "\n",
    "# do the same thing, but for rt_gender instead \n",
    "s = sbc_rt_conv[\"predictions_rt\"].map(analysis_relabel_funcs.return_rt_gender)\n",
    "s = pd.DataFrame(s.tolist(), columns=[\"scores_rt\", \"category_rt\"])\n",
    "s[\"scores_rt\"] = s[\"scores_rt\"].map(lambda x: x.item()) # comes back as a tensor, change it to float\n",
    "sbc_rt_conv = sbc_rt_conv.join(s)"
   ]
  },
  {
   "cell_type": "code",
   "execution_count": 6,
   "metadata": {},
   "outputs": [
    {
     "data": {
      "text/html": [
       "<div>\n",
       "<style scoped>\n",
       "    .dataframe tbody tr th:only-of-type {\n",
       "        vertical-align: middle;\n",
       "    }\n",
       "\n",
       "    .dataframe tbody tr th {\n",
       "        vertical-align: top;\n",
       "    }\n",
       "\n",
       "    .dataframe thead th {\n",
       "        text-align: right;\n",
       "    }\n",
       "</style>\n",
       "<table border=\"1\" class=\"dataframe\">\n",
       "  <thead>\n",
       "    <tr style=\"text-align: right;\">\n",
       "      <th></th>\n",
       "      <th>sentence</th>\n",
       "      <th>predictions_sbf</th>\n",
       "      <th>predictions_rt</th>\n",
       "      <th>scores_sbf</th>\n",
       "      <th>category_sbf</th>\n",
       "      <th>scores_rt</th>\n",
       "      <th>category_rt</th>\n",
       "    </tr>\n",
       "  </thead>\n",
       "  <tbody>\n",
       "    <tr>\n",
       "      <th>0</th>\n",
       "      <td>yes am interested in obamas family</td>\n",
       "      <td>[tensor(1.0437), tensor(-0.6024), tensor(0.1484)]</td>\n",
       "      <td>[tensor(-0.6332), tensor(0.6919), tensor(-0.84...</td>\n",
       "      <td>-0.369400</td>\n",
       "      <td>Not</td>\n",
       "      <td>-0.016630</td>\n",
       "      <td>Positive</td>\n",
       "    </tr>\n",
       "    <tr>\n",
       "      <th>1</th>\n",
       "      <td>yes i want to know who made up his family</td>\n",
       "      <td>[tensor(1.8043), tensor(-0.6631), tensor(-0.11...</td>\n",
       "      <td>[tensor(0.0839), tensor(0.8344), tensor(-0.699...</td>\n",
       "      <td>-0.691929</td>\n",
       "      <td>Not</td>\n",
       "      <td>-0.106754</td>\n",
       "      <td>Neutral</td>\n",
       "    </tr>\n",
       "    <tr>\n",
       "      <th>2</th>\n",
       "      <td>yes this is what am looking for</td>\n",
       "      <td>[tensor(2.2968), tensor(-0.6913), tensor(-0.45...</td>\n",
       "      <td>[tensor(0.1760), tensor(1.0104), tensor(-0.106...</td>\n",
       "      <td>-0.840425</td>\n",
       "      <td>Not</td>\n",
       "      <td>-0.050733</td>\n",
       "      <td>Neutral</td>\n",
       "    </tr>\n",
       "    <tr>\n",
       "      <th>3</th>\n",
       "      <td>no find the barack obamas family tree time mag...</td>\n",
       "      <td>[tensor(1.2287), tensor(-0.5359), tensor(0.0472)]</td>\n",
       "      <td>[tensor(-0.6308), tensor(0.5328), tensor(-0.92...</td>\n",
       "      <td>-0.468977</td>\n",
       "      <td>Not</td>\n",
       "      <td>-0.022241</td>\n",
       "      <td>Positive</td>\n",
       "    </tr>\n",
       "    <tr>\n",
       "      <th>4</th>\n",
       "      <td>no i need the specific time magazine article t...</td>\n",
       "      <td>[tensor(1.1137), tensor(-0.4908), tensor(0.1666)]</td>\n",
       "      <td>[tensor(-0.0311), tensor(1.0237), tensor(-0.65...</td>\n",
       "      <td>-0.385269</td>\n",
       "      <td>Not</td>\n",
       "      <td>-0.074436</td>\n",
       "      <td>Neutral</td>\n",
       "    </tr>\n",
       "  </tbody>\n",
       "</table>\n",
       "</div>"
      ],
      "text/plain": [
       "                                            sentence  \\\n",
       "0                yes am interested in obamas family    \n",
       "1         yes i want to know who made up his family    \n",
       "2                   yes this is what am looking for    \n",
       "3  no find the barack obamas family tree time mag...   \n",
       "4  no i need the specific time magazine article t...   \n",
       "\n",
       "                                     predictions_sbf  \\\n",
       "0  [tensor(1.0437), tensor(-0.6024), tensor(0.1484)]   \n",
       "1  [tensor(1.8043), tensor(-0.6631), tensor(-0.11...   \n",
       "2  [tensor(2.2968), tensor(-0.6913), tensor(-0.45...   \n",
       "3  [tensor(1.2287), tensor(-0.5359), tensor(0.0472)]   \n",
       "4  [tensor(1.1137), tensor(-0.4908), tensor(0.1666)]   \n",
       "\n",
       "                                      predictions_rt  scores_sbf category_sbf  \\\n",
       "0  [tensor(-0.6332), tensor(0.6919), tensor(-0.84...   -0.369400          Not   \n",
       "1  [tensor(0.0839), tensor(0.8344), tensor(-0.699...   -0.691929          Not   \n",
       "2  [tensor(0.1760), tensor(1.0104), tensor(-0.106...   -0.840425          Not   \n",
       "3  [tensor(-0.6308), tensor(0.5328), tensor(-0.92...   -0.468977          Not   \n",
       "4  [tensor(-0.0311), tensor(1.0237), tensor(-0.65...   -0.385269          Not   \n",
       "\n",
       "   scores_rt category_rt  \n",
       "0  -0.016630    Positive  \n",
       "1  -0.106754     Neutral  \n",
       "2  -0.050733     Neutral  \n",
       "3  -0.022241    Positive  \n",
       "4  -0.074436     Neutral  "
      ]
     },
     "execution_count": 6,
     "metadata": {},
     "output_type": "execute_result"
    }
   ],
   "source": [
    "sbc_rt_conv.head()"
   ]
  },
  {
   "cell_type": "code",
   "execution_count": 7,
   "metadata": {},
   "outputs": [
    {
     "data": {
      "text/html": [
       "<div>\n",
       "<style scoped>\n",
       "    .dataframe tbody tr th:only-of-type {\n",
       "        vertical-align: middle;\n",
       "    }\n",
       "\n",
       "    .dataframe tbody tr th {\n",
       "        vertical-align: top;\n",
       "    }\n",
       "\n",
       "    .dataframe thead th {\n",
       "        text-align: right;\n",
       "    }\n",
       "</style>\n",
       "<table border=\"1\" class=\"dataframe\">\n",
       "  <thead>\n",
       "    <tr style=\"text-align: right;\">\n",
       "      <th></th>\n",
       "      <th>scores_sbf</th>\n",
       "      <th>scores_rt</th>\n",
       "    </tr>\n",
       "  </thead>\n",
       "  <tbody>\n",
       "    <tr>\n",
       "      <th>scores_sbf</th>\n",
       "      <td>1.000001</td>\n",
       "      <td>-0.787093</td>\n",
       "    </tr>\n",
       "    <tr>\n",
       "      <th>scores_rt</th>\n",
       "      <td>-0.787093</td>\n",
       "      <td>1.000001</td>\n",
       "    </tr>\n",
       "  </tbody>\n",
       "</table>\n",
       "</div>"
      ],
      "text/plain": [
       "            scores_sbf  scores_rt\n",
       "scores_sbf    1.000001  -0.787093\n",
       "scores_rt    -0.787093   1.000001"
      ]
     },
     "execution_count": 7,
     "metadata": {},
     "output_type": "execute_result"
    }
   ],
   "source": [
    "# normalize, take the scores of sbf and rt and do a covariance\n",
    "std_scaler = StandardScaler()\n",
    "scores_df = sbc_rt_conv[[\"scores_sbf\", \"scores_rt\"]]\n",
    "scores_df = pd.DataFrame(std_scaler.fit_transform(scores_df), columns=scores_df.columns)\n",
    "scores_df.cov()"
   ]
  },
  {
   "cell_type": "code",
   "execution_count": 19,
   "metadata": {},
   "outputs": [
    {
     "name": "stdout",
     "output_type": "stream",
     "text": [
      "p-value is 1.520037777915489e-211\n"
     ]
    }
   ],
   "source": [
    "# take the categories and do a chi2 test\n",
    "# first get the contingency table\n",
    "contingency = pd.crosstab(sbc_rt_conv[\"category_sbf\"], sbc_rt_conv[\"category_rt\"])\n",
    "c, p, dof, expected = chi2_contingency(contingency)\n",
    "print(f\"p-value is {p}\")"
   ]
  },
  {
   "cell_type": "code",
   "execution_count": 21,
   "metadata": {},
   "outputs": [
    {
     "data": {
      "text/plain": [
       "<matplotlib.axes._subplots.AxesSubplot at 0x7f972abc0730>"
      ]
     },
     "execution_count": 21,
     "metadata": {},
     "output_type": "execute_result"
    },
    {
     "data": {
      "image/png": "[encoded data removed]",
      "text/plain": [
       "<Figure size 648x432 with 2 Axes>"
      ]
     },
     "metadata": {
      "needs_background": "light"
     },
     "output_type": "display_data"
    }
   ],
   "source": [
    "f, ax = plt.subplots(figsize=(9, 6))\n",
    "sns.heatmap(contingency, annot=True, fmt=\"d\", cmap=\"YlGnBu\")"
   ]
  },
  {
   "cell_type": "code",
   "execution_count": null,
   "metadata": {},
   "outputs": [],
   "source": []
  }
 ],
 "metadata": {
  "kernelspec": {
   "display_name": "Python 3",
   "language": "python",
   "name": "python3"
  },
  "language_info": {
   "codemirror_mode": {
    "name": "ipython",
    "version": 3
   },
   "file_extension": ".py",
   "mimetype": "text/x-python",
   "name": "python",
   "nbconvert_exporter": "python",
   "pygments_lexer": "ipython3",
   "version": "3.8.2"
  }
 },
 "nbformat": 4,
 "nbformat_minor": 4
}