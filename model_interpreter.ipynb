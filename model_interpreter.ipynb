{
 "cells": [
  {
   "cell_type": "code",
   "execution_count": 1,
   "metadata": {},
   "outputs": [],
   "source": [
    "model_prefix=\"Cameron/BERT-\"\n",
    "models = [model_prefix + x for x in [\"Jigsaw\", \"SBIC-offensive\", \"SBIC-targetcategory\", \"eec-emotion\", \"jigsaw-identityhate\", \"jigsaw-severetoxic\", \"mdgender-convai-binary\", \"mdgender-convai-ternary\", \"mdgender-wizard\", \"rtgender-opgender-annotations\"]]"
   ]
  },
  {
   "cell_type": "code",
   "execution_count": 2,
   "metadata": {},
   "outputs": [
    {
     "data": {
      "text/plain": [
       "['Cameron/BERT-Jigsaw',\n",
       " 'Cameron/BERT-SBIC-offensive',\n",
       " 'Cameron/BERT-SBIC-targetcategory',\n",
       " 'Cameron/BERT-eec-emotion',\n",
       " 'Cameron/BERT-jigsaw-identityhate',\n",
       " 'Cameron/BERT-jigsaw-severetoxic',\n",
       " 'Cameron/BERT-mdgender-convai-binary',\n",
       " 'Cameron/BERT-mdgender-convai-ternary',\n",
       " 'Cameron/BERT-mdgender-wizard',\n",
       " 'Cameron/BERT-rtgender-opgender-annotations']"
      ]
     },
     "execution_count": 2,
     "metadata": {},
     "output_type": "execute_result"
    }
   ],
   "source": [
    "models"
   ]
  },
  {
   "cell_type": "code",
   "execution_count": 3,
   "metadata": {},
   "outputs": [],
   "source": [
    "model_relabel = {\n",
    "    'Cameron/BERT-Jigsaw': [], # unknown\n",
    "    'Cameron/BERT-SBIC-offensive': [\"Not\", \"Maybe\", \"Offensive\"],\n",
    "    'Cameron/BERT-SBIC-targetcategory': [], # incorrect\n",
    "    'Cameron/BERT-eec-emotion': ['none', 'anger','fear', 'joy', 'sadness'],\n",
    "    'Cameron/BERT-jigsaw-identityhate': ['Not', \"Yes\"],\n",
    "    'Cameron/BERT-jigsaw-severetoxic': [\"Not\", \"Yes\"],\n",
    "    'Cameron/BERT-mdgender-convai-binary': [\"female\", \"male\"],\n",
    "    'Cameron/BERT-mdgender-convai-ternary': [\"female\", \"male\", \"neutral\"],\n",
    "    'Cameron/BERT-mdgender-wizard': [\"neutral\", \"female\", \"male\"],\n",
    "    'Cameron/BERT-rtgender-opgender-annotations': [] # incorrect\n",
    "}"
   ]
  },
  {
   "cell_type": "code",
   "execution_count": 4,
   "metadata": {},
   "outputs": [],
   "source": [
    "from transformers import AutoTokenizer, AutoModelForSequenceClassification\n",
    "import torch"
   ]
  },
  {
   "cell_type": "code",
   "execution_count": 5,
   "metadata": {},
   "outputs": [
    {
     "name": "stdout",
     "output_type": "stream",
     "text": [
      "Loading Cameron/BERT-Jigsaw\n",
      "Loading Cameron/BERT-SBIC-offensive\n",
      "Loading Cameron/BERT-SBIC-targetcategory\n",
      "Loading Cameron/BERT-eec-emotion\n",
      "Loading Cameron/BERT-jigsaw-identityhate\n",
      "Loading Cameron/BERT-jigsaw-severetoxic\n",
      "Loading Cameron/BERT-mdgender-convai-binary\n",
      "Loading Cameron/BERT-mdgender-convai-ternary\n",
      "Loading Cameron/BERT-mdgender-wizard\n",
      "Loading Cameron/BERT-rtgender-opgender-annotations\n"
     ]
    }
   ],
   "source": [
    "pretrained_models = {}\n",
    "for model in models:\n",
    "    print(f\"Loading {model}\")\n",
    "    pretrained_models[model] = AutoModelForSequenceClassification.from_pretrained(model)"
   ]
  },
  {
   "cell_type": "code",
   "execution_count": 6,
   "metadata": {},
   "outputs": [],
   "source": [
    "tokenizer = AutoTokenizer.from_pretrained(\"bert-base-cased\")"
   ]
  },
  {
   "cell_type": "code",
   "execution_count": 7,
   "metadata": {},
   "outputs": [],
   "source": [
    "# find all the models with labels that we've defined\n",
    "models_with_labels = []\n",
    "\n",
    "for model_name, val in model_relabel.items():\n",
    "    if len(val):\n",
    "        models_with_labels.append(model_name)"
   ]
  },
  {
   "cell_type": "code",
   "execution_count": 8,
   "metadata": {},
   "outputs": [
    {
     "data": {
      "text/plain": [
       "['Cameron/BERT-SBIC-offensive',\n",
       " 'Cameron/BERT-eec-emotion',\n",
       " 'Cameron/BERT-jigsaw-identityhate',\n",
       " 'Cameron/BERT-jigsaw-severetoxic',\n",
       " 'Cameron/BERT-mdgender-convai-binary',\n",
       " 'Cameron/BERT-mdgender-convai-ternary',\n",
       " 'Cameron/BERT-mdgender-wizard']"
      ]
     },
     "execution_count": 8,
     "metadata": {},
     "output_type": "execute_result"
    }
   ],
   "source": [
    "models_with_labels"
   ]
  },
  {
   "cell_type": "code",
   "execution_count": 13,
   "metadata": {},
   "outputs": [],
   "source": [
    "def predict(sentence, model_name):\n",
    "    encoded_sentence = tokenizer.encode_plus(SENTENCE, return_tensors=\"pt\")\n",
    "    sentence_logits = pretrained_models[model_name](**encoded_sentence)[0]\n",
    "    #print(sentence_logits)\n",
    "    softmaxes = torch.softmax(sentence_logits, dim=1).tolist()[0]\n",
    "    labels = model_relabel[model_name]\n",
    "    prediction_str = {}\n",
    "    for label, softmax in zip(labels, softmaxes):\n",
    "        prediction_str[label] = softmax * 100\n",
    "    print(f\"{model_name}: {prediction_str}\")\n",
    "    return prediction_str"
   ]
  },
  {
   "cell_type": "code",
   "execution_count": 14,
   "metadata": {},
   "outputs": [],
   "source": [
    "SENTENCE = \"\"\"\n",
    "THIS IS A SUPER TOXIC SENTENCE WE ARE TESTING\n",
    "\"\"\""
   ]
  },
  {
   "cell_type": "code",
   "execution_count": 15,
   "metadata": {},
   "outputs": [
    {
     "name": "stdout",
     "output_type": "stream",
     "text": [
      "Cameron/BERT-SBIC-offensive: {'Not': 99.76773858070374, 'Maybe': 0.14955037040635943, 'Offensive': 0.08271938422694802}\n",
      "Cameron/BERT-eec-emotion: {'none': 4.477528482675552, 'anger': 0.04400764009915292, 'fear': 3.006780706346035, 'joy': 92.41065979003906, 'sadness': 0.06103508058004081}\n",
      "Cameron/BERT-jigsaw-identityhate: {'Not': 99.9485969543457, 'Yes': 0.051401183009147644}\n",
      "Cameron/BERT-jigsaw-severetoxic: {'Not': 99.968421459198, 'Yes': 0.0315822078846395}\n",
      "Cameron/BERT-mdgender-convai-binary: {'female': 0.4176512826234102, 'male': 99.58235025405884}\n",
      "Cameron/BERT-mdgender-convai-ternary: {'female': 0.026768672978505492, 'male': 0.20704201888293028, 'neutral': 99.76619482040405}\n",
      "Cameron/BERT-mdgender-wizard: {'neutral': 1.3239141553640366, 'female': 1.4711951836943626, 'male': 97.20488786697388}\n"
     ]
    }
   ],
   "source": [
    "preds = {}\n",
    "for model_name in models_with_labels:\n",
    "    preds[model_name] = predict(SENTENCE, model_name)\n"
   ]
  },
  {
   "cell_type": "code",
   "execution_count": null,
   "metadata": {},
   "outputs": [],
   "source": []
  }
 ],
 "metadata": {
  "kernelspec": {
   "display_name": "Python 3",
   "language": "python",
   "name": "python3"
  },
  "language_info": {
   "codemirror_mode": {
    "name": "ipython",
    "version": 3
   },
   "file_extension": ".py",
   "mimetype": "text/x-python",
   "name": "python",
   "nbconvert_exporter": "python",
   "pygments_lexer": "ipython3",
   "version": "3.8.2"
  }
 },
 "nbformat": 4,
 "nbformat_minor": 4
}
