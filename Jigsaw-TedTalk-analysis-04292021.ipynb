{
 "cells": [
  {
   "cell_type": "markdown",
   "metadata": {},
   "source": [
    "# BERT + Jigsaw: toxicity detection in the TedTalk datasets"
   ]
  },
  {
   "cell_type": "markdown",
   "metadata": {},
   "source": [
    "#### Cameron Clarke, 04/29/2021"
   ]
  },
  {
   "cell_type": "markdown",
   "metadata": {},
   "source": [
    "## Load data"
   ]
  },
  {
   "cell_type": "code",
   "execution_count": 1,
   "metadata": {},
   "outputs": [],
   "source": [
    "import numpy as np\n",
    "from scipy.special import softmax"
   ]
  },
  {
   "cell_type": "code",
   "execution_count": 4,
   "metadata": {},
   "outputs": [],
   "source": [
    "finetuned_2014_df = np.loadtxt('scores/bert-jigsaw-tedtalk-2014.txt')"
   ]
  },
  {
   "cell_type": "code",
   "execution_count": 5,
   "metadata": {},
   "outputs": [],
   "source": [
    "finetuned_2015_df = np.loadtxt('scores/bert-jigsaw-tedtalk-2015.txt') "
   ]
  },
  {
   "cell_type": "code",
   "execution_count": 6,
   "metadata": {},
   "outputs": [],
   "source": [
    "base_2014_df= np.loadtxt('scores/bert-base-cased-tedtalk-2014.txt')"
   ]
  },
  {
   "cell_type": "code",
   "execution_count": 7,
   "metadata": {},
   "outputs": [],
   "source": [
    "base_2015_df= np.loadtxt('scores/bert-base-cased-tedtalk-2015.txt')"
   ]
  },
  {
   "cell_type": "code",
   "execution_count": 8,
   "metadata": {},
   "outputs": [],
   "source": [
    "finetuned_df = np.vstack((finetuned_2014_df, finetuned_2015_df))"
   ]
  },
  {
   "cell_type": "code",
   "execution_count": 9,
   "metadata": {},
   "outputs": [],
   "source": [
    "base_df = np.vstack((base_2014_df, base_2015_df))"
   ]
  },
  {
   "cell_type": "markdown",
   "metadata": {},
   "source": [
    "## Classification: positive class probabilities"
   ]
  },
  {
   "cell_type": "markdown",
   "metadata": {},
   "source": [
    "#### Get class probabilities: fine-tuned on Jigsaw"
   ]
  },
  {
   "cell_type": "code",
   "execution_count": 23,
   "metadata": {},
   "outputs": [],
   "source": [
    "finetuned_pos_scores = softmax(finetuned_df, axis=1)[:, 1]"
   ]
  },
  {
   "cell_type": "code",
   "execution_count": 11,
   "metadata": {},
   "outputs": [
    {
     "output_type": "execute_result",
     "data": {
      "text/plain": [
       "47"
      ]
     },
     "metadata": {},
     "execution_count": 11
    }
   ],
   "source": [
    "sum(finetuned_pos_scores > 0.5)"
   ]
  },
  {
   "source": [
    "#### Get class probabilities: BERT base cased"
   ],
   "cell_type": "markdown",
   "metadata": {}
  },
  {
   "cell_type": "code",
   "execution_count": 14,
   "metadata": {},
   "outputs": [],
   "source": [
    "base_pos_scores = softmax(base_df, axis=1)[:, 1]"
   ]
  },
  {
   "cell_type": "code",
   "execution_count": 15,
   "metadata": {},
   "outputs": [
    {
     "output_type": "execute_result",
     "data": {
      "text/plain": [
       "46"
      ]
     },
     "metadata": {},
     "execution_count": 15
    }
   ],
   "source": [
    "sum(base_pos_scores > 0.5)"
   ]
  },
  {
   "source": [
    "#### **Correlation b/t scores from BERT fine-tuned on Jigsaw and base BERT**"
   ],
   "cell_type": "markdown",
   "metadata": {}
  },
  {
   "cell_type": "code",
   "execution_count": 31,
   "metadata": {},
   "outputs": [
    {
     "output_type": "execute_result",
     "data": {
      "text/plain": [
       "array([[ 1.        , -0.03504379],\n",
       "       [-0.03504379,  1.        ]])"
      ]
     },
     "metadata": {},
     "execution_count": 31
    }
   ],
   "source": [
    "np.corrcoef(base_pos_scores, finetuned_pos_scores)"
   ]
  },
  {
   "cell_type": "markdown",
   "metadata": {},
   "source": [
    "#### Average scores"
   ]
  },
  {
   "cell_type": "code",
   "execution_count": 17,
   "metadata": {},
   "outputs": [
    {
     "output_type": "execute_result",
     "data": {
      "text/plain": [
       "0.00760180195725067"
      ]
     },
     "metadata": {},
     "execution_count": 17
    }
   ],
   "source": [
    "np.average(finetuned_pos_scores)"
   ]
  },
  {
   "cell_type": "code",
   "execution_count": 18,
   "metadata": {},
   "outputs": [
    {
     "output_type": "execute_result",
     "data": {
      "text/plain": [
       "0.4184977940687469"
      ]
     },
     "metadata": {},
     "execution_count": 18
    }
   ],
   "source": [
    "np.average(base_pos_scores)"
   ]
  },
  {
   "cell_type": "markdown",
   "metadata": {},
   "source": [
    "#### Score variance"
   ]
  },
  {
   "cell_type": "code",
   "execution_count": 19,
   "metadata": {},
   "outputs": [
    {
     "output_type": "execute_result",
     "data": {
      "text/plain": [
       "0.006292605633250623"
      ]
     },
     "metadata": {},
     "execution_count": 19
    }
   ],
   "source": [
    "np.var(finetuned_pos_scores)"
   ]
  },
  {
   "cell_type": "code",
   "execution_count": 20,
   "metadata": {},
   "outputs": [
    {
     "output_type": "execute_result",
     "data": {
      "text/plain": [
       "0.00033255118723500397"
      ]
     },
     "metadata": {},
     "execution_count": 20
    }
   ],
   "source": [
    "np.var(base_pos_scores)"
   ]
  },
  {
   "cell_type": "markdown",
   "metadata": {},
   "source": [
    "#### Score quantiles (deciles)"
   ]
  },
  {
   "cell_type": "code",
   "execution_count": 24,
   "metadata": {},
   "outputs": [],
   "source": [
    "finetuned_pos_score_deciles = {round(prop, 1) : np.quantile(finetuned_pos_scores, q=prop) for prop in np.arange(start=0.1, stop=1, step=0.1)}"
   ]
  },
  {
   "cell_type": "code",
   "execution_count": 25,
   "metadata": {},
   "outputs": [
    {
     "output_type": "execute_result",
     "data": {
      "text/plain": [
       "{0.1: 2.6312316414365275e-05,\n",
       " 0.2: 2.7442732690052506e-05,\n",
       " 0.3: 2.8732080026177693e-05,\n",
       " 0.4: 3.0296154336716905e-05,\n",
       " 0.5: 3.313242519161377e-05,\n",
       " 0.6: 3.943482024661601e-05,\n",
       " 0.7: 6.070303201986001e-05,\n",
       " 0.8: 0.00014524627277485058,\n",
       " 0.9: 0.0008943889191192632}"
      ]
     },
     "metadata": {},
     "execution_count": 25
    }
   ],
   "source": [
    "finetuned_pos_score_deciles"
   ]
  },
  {
   "cell_type": "code",
   "execution_count": 28,
   "metadata": {},
   "outputs": [],
   "source": [
    "base_pos_score_deciles = {round(prop, 1) : np.quantile(base_pos_scores, q=prop) for prop in np.arange(start=0.1, stop=1, step=0.1)}"
   ]
  },
  {
   "cell_type": "code",
   "execution_count": 29,
   "metadata": {},
   "outputs": [
    {
     "output_type": "execute_result",
     "data": {
      "text/plain": [
       "{0.1: 0.4000048165341761,\n",
       " 0.2: 0.40536478814341415,\n",
       " 0.3: 0.4094884619314501,\n",
       " 0.4: 0.4130893989721166,\n",
       " 0.5: 0.41667425643264216,\n",
       " 0.6: 0.4199992728692697,\n",
       " 0.7: 0.4242511982501066,\n",
       " 0.8: 0.42915259937176387,\n",
       " 0.9: 0.4371915722818788}"
      ]
     },
     "metadata": {},
     "execution_count": 29
    }
   ],
   "source": [
    "base_pos_score_deciles"
   ]
  },
  {
   "cell_type": "markdown",
   "metadata": {},
   "source": [
    "## Classification: class assignments"
   ]
  },
  {
   "cell_type": "markdown",
   "metadata": {},
   "source": [
    "#### Get 1/0 class assignments"
   ]
  },
  {
   "cell_type": "code",
   "execution_count": 32,
   "metadata": {},
   "outputs": [],
   "source": [
    "class_assigns = np.argmax(finetuned_df, axis=1)"
   ]
  },
  {
   "cell_type": "code",
   "execution_count": 33,
   "metadata": {},
   "outputs": [
    {
     "output_type": "execute_result",
     "data": {
      "text/plain": [
       "array([0, 0, 0, ..., 0, 0, 0])"
      ]
     },
     "metadata": {},
     "execution_count": 33
    }
   ],
   "source": [
    "class_assigns"
   ]
  },
  {
   "cell_type": "code",
   "execution_count": 34,
   "metadata": {},
   "outputs": [
    {
     "output_type": "execute_result",
     "data": {
      "text/plain": [
       "47"
      ]
     },
     "metadata": {},
     "execution_count": 34
    }
   ],
   "source": [
    "sum(class_assigns)"
   ]
  },
  {
   "cell_type": "markdown",
   "metadata": {},
   "source": [
    "#### Average of class assignments"
   ]
  },
  {
   "cell_type": "code",
   "execution_count": 35,
   "metadata": {},
   "outputs": [
    {
     "output_type": "execute_result",
     "data": {
      "text/plain": [
       "0.007213014119091467"
      ]
     },
     "metadata": {},
     "execution_count": 35
    }
   ],
   "source": [
    "np.average(class_assigns)"
   ]
  },
  {
   "cell_type": "markdown",
   "metadata": {},
   "source": [
    "#### Variance of class assignments\n"
   ]
  },
  {
   "cell_type": "code",
   "execution_count": 36,
   "metadata": {},
   "outputs": [
    {
     "output_type": "execute_result",
     "data": {
      "text/plain": [
       "0.007160986546409252"
      ]
     },
     "metadata": {},
     "execution_count": 36
    }
   ],
   "source": [
    "np.var(class_assigns)"
   ]
  },
  {
   "cell_type": "markdown",
   "metadata": {},
   "source": [
    "## The positive/\"toxic\" examples "
   ]
  },
  {
   "cell_type": "code",
   "execution_count": 36,
   "metadata": {},
   "outputs": [],
   "source": [
    "import datasets"
   ]
  },
  {
   "cell_type": "code",
   "execution_count": 45,
   "metadata": {},
   "outputs": [
    {
     "name": "stderr",
     "output_type": "stream",
     "text": [
      "Reusing dataset ted_talks_iwslt (/home/ccc779/.cache/huggingface/datasets/ted_talks_iwslt/nl_en_2014/1.1.0/caf519a0a183db297ca5f39dbfd42de3a415aaa79b5a638edd4fd7a3e3b0e545)\n"
     ]
    }
   ],
   "source": [
    "nl_en_2014_dataset = datasets.load_dataset('ted_talks_iwslt', 'nl_en_2014')"
   ]
  },
  {
   "cell_type": "code",
   "execution_count": 43,
   "metadata": {},
   "outputs": [
    {
     "name": "stdout",
     "output_type": "stream",
     "text": [
      "Downloading and preparing dataset ted_talks_iwslt/nl_en_2015 (download: 1.55 GiB, generated: 1.23 MiB, post-processed: Unknown size, total: 1.55 GiB) to /home/ccc779/.cache/huggingface/datasets/ted_talks_iwslt/nl_en_2015/1.1.0/caf519a0a183db297ca5f39dbfd42de3a415aaa79b5a638edd4fd7a3e3b0e545...\n"
     ]
    },
    {
     "data": {
      "application/vnd.jupyter.widget-view+json": {
       "model_id": "",
       "version_major": 2,
       "version_minor": 0
      },
      "text/plain": [
       "HBox(children=(FloatProgress(value=1.0, bar_style='info', max=1.0), HTML(value='')))"
      ]
     },
     "metadata": {},
     "output_type": "display_data"
    },
    {
     "name": "stdout",
     "output_type": "stream",
     "text": [
      "Dataset ted_talks_iwslt downloaded and prepared to /home/ccc779/.cache/huggingface/datasets/ted_talks_iwslt/nl_en_2015/1.1.0/caf519a0a183db297ca5f39dbfd42de3a415aaa79b5a638edd4fd7a3e3b0e545. Subsequent calls will reuse this data.\n"
     ]
    }
   ],
   "source": [
    "nl_en_2015_dataset = datasets.load_dataset('ted_talks_iwslt', 'nl_en_2015')"
   ]
  },
  {
   "cell_type": "code",
   "execution_count": 51,
   "metadata": {},
   "outputs": [],
   "source": [
    "num_rows_2014 = len(nl_en_2014_dataset['train'])"
   ]
  },
  {
   "cell_type": "code",
   "execution_count": 52,
   "metadata": {},
   "outputs": [],
   "source": [
    "num_rows_2015 = len(nl_en_2015_dataset['train'])"
   ]
  },
  {
   "cell_type": "code",
   "execution_count": 65,
   "metadata": {},
   "outputs": [],
   "source": [
    "pos_inds_2014 = [i for i in range(num_rows_2014) if class_assigns[i] == 1]"
   ]
  },
  {
   "cell_type": "code",
   "execution_count": 57,
   "metadata": {},
   "outputs": [],
   "source": [
    "pos_inds_2015 = [i for i in range(num_rows_2015) if class_assigns[i + num_rows_2014] == 1]"
   ]
  },
  {
   "cell_type": "markdown",
   "metadata": {},
   "source": [
    "#### Toxic cases in the 2014 dataset"
   ]
  },
  {
   "cell_type": "code",
   "execution_count": 66,
   "metadata": {},
   "outputs": [
    {
     "name": "stdout",
     "output_type": "stream",
     "text": [
      "107 : Grégoire Courtine: The paralyzed rat that walked\n",
      "179 : William Li: Can we eat to starve cancer?\n",
      "290 : <i>Freakonomics</i> author Steven Levitt presents new data on the finances of drug dealing. Contrary to popular myth, he says, being a street-corner crack dealer isn’t lucrative: It pays below minimum wage. And your boss can kill you.\n",
      "309 : Rose George: Let's talk crap. Seriously.\n",
      "594 : What is killing the Tasmanian devil? A virulent cancer is infecting them by the thousands  -- and unlike most cancers, it's contagious. Researcher Elizabeth Murchison tells us how she's fighting to save the Taz, and what she's learning about all cancers from this unusual strain. Contains disturbing images of facial cancer.\n",
      "595 : Elizabeth Murchison: Fighting a contagious cancer\n",
      "975 : David Deutsch: Chemical scum that dream of distant quasars\n",
      "1071 : Bart Knols: Cheese, dogs and a pill to kill mosquitoes and end malaria\n",
      "1654 : Investor and prankster Yossi Vardi delivers a ballsy lecture on the dangers of blogging. Specifically, for men.\n",
      "1683 : Elizabeth Pisani: Sex, drugs and HIV -- let's get rational\n",
      "1763 : Matt Ridley: When ideas have sex\n",
      "1997 : John McWhorter: Txtng is killing language. JK!!!\n",
      "2085 : David Anderson: Your brain is more than a bag of chemicals\n",
      "2121 : Diane Kelly: What we didn't know about penis anatomy\n",
      "2183 : iO Tillett Wright: Fifty shades of gay\n",
      "2271 : Ernesto Sirolli: Want to help someone? Shut up and listen!\n",
      "2273 : Candy Chang: Before I die I want to...\n",
      "2314 : What does a disgusting image have to do with how you vote? Equipped with surveys and experiments, psychologist David Pizarro demonstrates a correlation between sensitivity to disgusting cues -- a photo of feces, an unpleasant odor -- and moral and political conservatism. <em>(Filmed at TEDxEast.)</em>\n",
      "2803 : Heribert Watzke: The brain in your gut\n",
      "2811 : Mitchell Besser: Mothers helping mothers fight HIV\n",
      "2953 : Einstein the Parrot: A talking, squawking parrot\n"
     ]
    }
   ],
   "source": [
    "for i in pos_inds_2014:\n",
    "    print(i, ':', nl_en_2014_dataset['train']['translation'][i]['en'])"
   ]
  },
  {
   "cell_type": "markdown",
   "metadata": {},
   "source": [
    "#### Toxic cases in the 2015 dataset"
   ]
  },
  {
   "cell_type": "code",
   "execution_count": 64,
   "metadata": {},
   "outputs": [
    {
     "name": "stdout",
     "output_type": "stream",
     "text": [
      "31 : Bel Pesce: 5 ways to kill your dreams\n",
      "227 : Meaghan Ramsey: Why thinking you're ugly is bad for you\n",
      "257 : Zak Ebrahim: I am the son of a terrorist. Here's how I chose peace.\n",
      "321 : Lorrie Faith Cranor: What’s wrong with your pa$$w0rd?\n",
      "485 : Shereen El Feki: A little-told tale of sex and sensuality\n",
      "569 : Grégoire Courtine: The paralyzed rat that walked\n",
      "827 : John McWhorter: Txtng is killing language. JK!!!\n",
      "837 : Rose George: Let's talk crap. Seriously.\n",
      "883 : David Anderson: Your brain is more than a bag of chemicals\n",
      "941 : iO Tillett Wright: Fifty shades of gay\n",
      "1019 : Ernesto Sirolli: Want to help someone? Shut up and listen!\n",
      "1021 : Candy Chang: Before I die I want to...\n",
      "1066 : What does a disgusting image have to do with how you vote? Equipped with surveys and experiments, psychologist David Pizarro demonstrates a correlation between sensitivity to disgusting cues -- a photo of feces, an unpleasant odor -- and moral and political conservatism. <em>(Filmed at TEDxEast.)</em>\n",
      "1281 : Diane Kelly: What we didn't know about penis anatomy\n",
      "1323 : Bart Knols: Cheese, dogs and a pill to kill mosquitoes and end malaria\n",
      "1654 : What is killing the Tasmanian devil? A virulent cancer is infecting them by the thousands  -- and unlike most cancers, it's contagious. Researcher Elizabeth Murchison tells us how she's fighting to save the Taz, and what she's learning about all cancers from this unusual strain. Contains disturbing images of facial cancer.\n",
      "1655 : Elizabeth Murchison: Fighting a contagious cancer\n",
      "2099 : Heribert Watzke: The brain in your gut\n",
      "2137 : Mitchell Besser: Mothers helping mothers fight HIV\n",
      "2215 : Matt Ridley: When ideas have sex\n",
      "2295 : William Li: Can we eat to starve cancer?\n",
      "2353 : Elizabeth Pisani: Sex, drugs and HIV -- let's get rational\n",
      "3027 : Einstein the Parrot: A talking, squawking parrot\n",
      "3226 : Investor and prankster Yossi Vardi delivers a ballsy lecture on the dangers of blogging. Specifically, for men.\n",
      "3492 : <i>Freakonomics</i> author Steven Levitt presents new data on the finances of drug dealing. Contrary to popular myth, he says, being a street-corner crack dealer isn’t lucrative: It pays below minimum wage. And your boss can kill you.\n",
      "3497 : David Deutsch: Chemical scum that dream of distant quasars\n"
     ]
    }
   ],
   "source": [
    "for i in pos_inds_2015:\n",
    "    print(i, ':', nl_en_2015_dataset['train']['translation'][i]['en'])"
   ]
  }
 ],
 "metadata": {
  "kernelspec": {
   "name": "python385jvsc74a57bd00d894dd7ea5fee7289b4b44ff6cd340fa5ae681816464445f8660a8dc75936a4",
   "display_name": "Python 3.8.5 64-bit ('nlu-final-project': conda)"
  },
  "language_info": {
   "codemirror_mode": {
    "name": "ipython",
    "version": 3
   },
   "file_extension": ".py",
   "mimetype": "text/x-python",
   "name": "python",
   "nbconvert_exporter": "python",
   "pygments_lexer": "ipython3",
   "version": "3.8.5"
  }
 },
 "nbformat": 4,
 "nbformat_minor": 4
}