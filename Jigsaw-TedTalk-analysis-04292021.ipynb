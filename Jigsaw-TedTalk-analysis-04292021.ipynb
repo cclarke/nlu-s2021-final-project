{
 "cells": [
  {
   "cell_type": "markdown",
   "metadata": {},
   "source": [
    "# BERT + Jigsaw: toxicity detection in the TedTalk datasets"
   ]
  },
  {
   "cell_type": "markdown",
   "metadata": {},
   "source": [
    "#### Cameron Clarke, 04/29/2021"
   ]
  },
  {
   "cell_type": "markdown",
   "metadata": {},
   "source": [
    "## Load data"
   ]
  },
  {
   "cell_type": "code",
   "execution_count": 7,
   "metadata": {},
   "outputs": [],
   "source": [
    "import numpy as np\n",
    "from scipy.special import softmax"
   ]
  },
  {
   "cell_type": "code",
   "execution_count": 2,
   "metadata": {},
   "outputs": [],
   "source": [
    "df_2014 = np.loadtxt('/home/ccc779/ted_talks_iwslt-0-train-16:17:28-eval.out')"
   ]
  },
  {
   "cell_type": "code",
   "execution_count": 3,
   "metadata": {},
   "outputs": [],
   "source": [
    "df_2015 = np.loadtxt('/home/ccc779/ted_talks_iwslt-1-train-16:17:39-eval.out') "
   ]
  },
  {
   "cell_type": "code",
   "execution_count": 4,
   "metadata": {},
   "outputs": [],
   "source": [
    "df = np.vstack((df_2014, df_2015))"
   ]
  },
  {
   "cell_type": "markdown",
   "metadata": {},
   "source": [
    "## Classification: positive class probabilities"
   ]
  },
  {
   "cell_type": "markdown",
   "metadata": {},
   "source": [
    "#### Get class probabilities"
   ]
  },
  {
   "cell_type": "code",
   "execution_count": 8,
   "metadata": {},
   "outputs": [],
   "source": [
    "pos_scores = softmax(df, axis=1)[:, 1]"
   ]
  },
  {
   "cell_type": "code",
   "execution_count": 10,
   "metadata": {},
   "outputs": [
    {
     "data": {
      "text/plain": [
       "47"
      ]
     },
     "execution_count": 10,
     "metadata": {},
     "output_type": "execute_result"
    }
   ],
   "source": [
    "sum(pos_scores > 0.5)"
   ]
  },
  {
   "cell_type": "markdown",
   "metadata": {},
   "source": [
    "#### Average score"
   ]
  },
  {
   "cell_type": "code",
   "execution_count": 14,
   "metadata": {},
   "outputs": [
    {
     "data": {
      "text/plain": [
       "0.00760180195725067"
      ]
     },
     "execution_count": 14,
     "metadata": {},
     "output_type": "execute_result"
    }
   ],
   "source": [
    "np.average(pos_scores)"
   ]
  },
  {
   "cell_type": "markdown",
   "metadata": {},
   "source": [
    "#### Score variance"
   ]
  },
  {
   "cell_type": "code",
   "execution_count": 15,
   "metadata": {},
   "outputs": [
    {
     "data": {
      "text/plain": [
       "0.006292605633250623"
      ]
     },
     "execution_count": 15,
     "metadata": {},
     "output_type": "execute_result"
    }
   ],
   "source": [
    "np.var(pos_scores)"
   ]
  },
  {
   "cell_type": "markdown",
   "metadata": {},
   "source": [
    "#### Score quantiles (deciles)"
   ]
  },
  {
   "cell_type": "code",
   "execution_count": 33,
   "metadata": {},
   "outputs": [],
   "source": [
    "pos_score_deciles = {round(prop, 1) : np.quantile(pos_scores, q=prop) for prop in np.arange(start=0.1, stop=1, step=0.1)}"
   ]
  },
  {
   "cell_type": "code",
   "execution_count": 34,
   "metadata": {},
   "outputs": [
    {
     "data": {
      "text/plain": [
       "{0.1: 2.6312316414365275e-05,\n",
       " 0.2: 2.7442732690052506e-05,\n",
       " 0.3: 2.8732080026177693e-05,\n",
       " 0.4: 3.0296154336716905e-05,\n",
       " 0.5: 3.313242519161377e-05,\n",
       " 0.6: 3.943482024661601e-05,\n",
       " 0.7: 6.070303201986001e-05,\n",
       " 0.8: 0.00014524627277485058,\n",
       " 0.9: 0.0008943889191192632}"
      ]
     },
     "execution_count": 34,
     "metadata": {},
     "output_type": "execute_result"
    }
   ],
   "source": [
    "pos_score_deciles"
   ]
  },
  {
   "cell_type": "markdown",
   "metadata": {},
   "source": [
    "## Classification: class assignments"
   ]
  },
  {
   "cell_type": "markdown",
   "metadata": {},
   "source": [
    "#### Get 1/0 class assignments"
   ]
  },
  {
   "cell_type": "code",
   "execution_count": 11,
   "metadata": {},
   "outputs": [],
   "source": [
    "class_assigns = np.argmax(df, axis=1)"
   ]
  },
  {
   "cell_type": "code",
   "execution_count": 12,
   "metadata": {},
   "outputs": [
    {
     "data": {
      "text/plain": [
       "array([0, 0, 0, ..., 0, 0, 0])"
      ]
     },
     "execution_count": 12,
     "metadata": {},
     "output_type": "execute_result"
    }
   ],
   "source": [
    "class_assigns"
   ]
  },
  {
   "cell_type": "code",
   "execution_count": 13,
   "metadata": {},
   "outputs": [
    {
     "data": {
      "text/plain": [
       "47"
      ]
     },
     "execution_count": 13,
     "metadata": {},
     "output_type": "execute_result"
    }
   ],
   "source": [
    "sum(class_assigns)"
   ]
  },
  {
   "cell_type": "markdown",
   "metadata": {},
   "source": [
    "#### Average of class assignments"
   ]
  },
  {
   "cell_type": "code",
   "execution_count": 26,
   "metadata": {},
   "outputs": [
    {
     "data": {
      "text/plain": [
       "0.007213014119091467"
      ]
     },
     "execution_count": 26,
     "metadata": {},
     "output_type": "execute_result"
    }
   ],
   "source": [
    "np.average(class_assigns)"
   ]
  },
  {
   "cell_type": "markdown",
   "metadata": {},
   "source": [
    "#### Variance of class assignments\n"
   ]
  },
  {
   "cell_type": "code",
   "execution_count": 35,
   "metadata": {},
   "outputs": [
    {
     "data": {
      "text/plain": [
       "0.007160986546409252"
      ]
     },
     "execution_count": 35,
     "metadata": {},
     "output_type": "execute_result"
    }
   ],
   "source": [
    "np.var(class_assigns)"
   ]
  },
  {
   "cell_type": "markdown",
   "metadata": {},
   "source": [
    "## The positive/\"toxic\" examples "
   ]
  },
  {
   "cell_type": "code",
   "execution_count": 36,
   "metadata": {},
   "outputs": [],
   "source": [
    "import datasets"
   ]
  },
  {
   "cell_type": "code",
   "execution_count": 45,
   "metadata": {},
   "outputs": [
    {
     "name": "stderr",
     "output_type": "stream",
     "text": [
      "Reusing dataset ted_talks_iwslt (/home/ccc779/.cache/huggingface/datasets/ted_talks_iwslt/nl_en_2014/1.1.0/caf519a0a183db297ca5f39dbfd42de3a415aaa79b5a638edd4fd7a3e3b0e545)\n"
     ]
    }
   ],
   "source": [
    "nl_en_2014_dataset = datasets.load_dataset('ted_talks_iwslt', 'nl_en_2014')"
   ]
  },
  {
   "cell_type": "code",
   "execution_count": 43,
   "metadata": {},
   "outputs": [
    {
     "name": "stdout",
     "output_type": "stream",
     "text": [
      "Downloading and preparing dataset ted_talks_iwslt/nl_en_2015 (download: 1.55 GiB, generated: 1.23 MiB, post-processed: Unknown size, total: 1.55 GiB) to /home/ccc779/.cache/huggingface/datasets/ted_talks_iwslt/nl_en_2015/1.1.0/caf519a0a183db297ca5f39dbfd42de3a415aaa79b5a638edd4fd7a3e3b0e545...\n"
     ]
    },
    {
     "data": {
      "application/vnd.jupyter.widget-view+json": {
       "model_id": "",
       "version_major": 2,
       "version_minor": 0
      },
      "text/plain": [
       "HBox(children=(FloatProgress(value=1.0, bar_style='info', max=1.0), HTML(value='')))"
      ]
     },
     "metadata": {},
     "output_type": "display_data"
    },
    {
     "name": "stdout",
     "output_type": "stream",
     "text": [
      "Dataset ted_talks_iwslt downloaded and prepared to /home/ccc779/.cache/huggingface/datasets/ted_talks_iwslt/nl_en_2015/1.1.0/caf519a0a183db297ca5f39dbfd42de3a415aaa79b5a638edd4fd7a3e3b0e545. Subsequent calls will reuse this data.\n"
     ]
    }
   ],
   "source": [
    "nl_en_2015_dataset = datasets.load_dataset('ted_talks_iwslt', 'nl_en_2015')"
   ]
  },
  {
   "cell_type": "code",
   "execution_count": 51,
   "metadata": {},
   "outputs": [],
   "source": [
    "num_rows_2014 = len(nl_en_2014_dataset['train'])"
   ]
  },
  {
   "cell_type": "code",
   "execution_count": 52,
   "metadata": {},
   "outputs": [],
   "source": [
    "num_rows_2015 = len(nl_en_2015_dataset['train'])"
   ]
  },
  {
   "cell_type": "code",
   "execution_count": 65,
   "metadata": {},
   "outputs": [],
   "source": [
    "pos_inds_2014 = [i for i in range(num_rows_2014) if class_assigns[i] == 1]"
   ]
  },
  {
   "cell_type": "code",
   "execution_count": 57,
   "metadata": {},
   "outputs": [],
   "source": [
    "pos_inds_2015 = [i for i in range(num_rows_2015) if class_assigns[i + num_rows_2014] == 1]"
   ]
  },
  {
   "cell_type": "markdown",
   "metadata": {},
   "source": [
    "#### Toxic cases in the 2014 dataset"
   ]
  },
  {
   "cell_type": "code",
   "execution_count": 66,
   "metadata": {},
   "outputs": [
    {
     "name": "stdout",
     "output_type": "stream",
     "text": [
      "107 : Grégoire Courtine: The paralyzed rat that walked\n",
      "179 : William Li: Can we eat to starve cancer?\n",
      "290 : <i>Freakonomics</i> author Steven Levitt presents new data on the finances of drug dealing. Contrary to popular myth, he says, being a street-corner crack dealer isn’t lucrative: It pays below minimum wage. And your boss can kill you.\n",
      "309 : Rose George: Let's talk crap. Seriously.\n",
      "594 : What is killing the Tasmanian devil? A virulent cancer is infecting them by the thousands  -- and unlike most cancers, it's contagious. Researcher Elizabeth Murchison tells us how she's fighting to save the Taz, and what she's learning about all cancers from this unusual strain. Contains disturbing images of facial cancer.\n",
      "595 : Elizabeth Murchison: Fighting a contagious cancer\n",
      "975 : David Deutsch: Chemical scum that dream of distant quasars\n",
      "1071 : Bart Knols: Cheese, dogs and a pill to kill mosquitoes and end malaria\n",
      "1654 : Investor and prankster Yossi Vardi delivers a ballsy lecture on the dangers of blogging. Specifically, for men.\n",
      "1683 : Elizabeth Pisani: Sex, drugs and HIV -- let's get rational\n",
      "1763 : Matt Ridley: When ideas have sex\n",
      "1997 : John McWhorter: Txtng is killing language. JK!!!\n",
      "2085 : David Anderson: Your brain is more than a bag of chemicals\n",
      "2121 : Diane Kelly: What we didn't know about penis anatomy\n",
      "2183 : iO Tillett Wright: Fifty shades of gay\n",
      "2271 : Ernesto Sirolli: Want to help someone? Shut up and listen!\n",
      "2273 : Candy Chang: Before I die I want to...\n",
      "2314 : What does a disgusting image have to do with how you vote? Equipped with surveys and experiments, psychologist David Pizarro demonstrates a correlation between sensitivity to disgusting cues -- a photo of feces, an unpleasant odor -- and moral and political conservatism. <em>(Filmed at TEDxEast.)</em>\n",
      "2803 : Heribert Watzke: The brain in your gut\n",
      "2811 : Mitchell Besser: Mothers helping mothers fight HIV\n",
      "2953 : Einstein the Parrot: A talking, squawking parrot\n"
     ]
    }
   ],
   "source": [
    "for i in pos_inds_2014:\n",
    "    print(i, ':', nl_en_2014_dataset['train']['translation'][i]['en'])"
   ]
  },
  {
   "cell_type": "markdown",
   "metadata": {},
   "source": [
    "#### Toxic cases in the 2015 dataset"
   ]
  },
  {
   "cell_type": "code",
   "execution_count": 64,
   "metadata": {},
   "outputs": [
    {
     "name": "stdout",
     "output_type": "stream",
     "text": [
      "31 : Bel Pesce: 5 ways to kill your dreams\n",
      "227 : Meaghan Ramsey: Why thinking you're ugly is bad for you\n",
      "257 : Zak Ebrahim: I am the son of a terrorist. Here's how I chose peace.\n",
      "321 : Lorrie Faith Cranor: What’s wrong with your pa$$w0rd?\n",
      "485 : Shereen El Feki: A little-told tale of sex and sensuality\n",
      "569 : Grégoire Courtine: The paralyzed rat that walked\n",
      "827 : John McWhorter: Txtng is killing language. JK!!!\n",
      "837 : Rose George: Let's talk crap. Seriously.\n",
      "883 : David Anderson: Your brain is more than a bag of chemicals\n",
      "941 : iO Tillett Wright: Fifty shades of gay\n",
      "1019 : Ernesto Sirolli: Want to help someone? Shut up and listen!\n",
      "1021 : Candy Chang: Before I die I want to...\n",
      "1066 : What does a disgusting image have to do with how you vote? Equipped with surveys and experiments, psychologist David Pizarro demonstrates a correlation between sensitivity to disgusting cues -- a photo of feces, an unpleasant odor -- and moral and political conservatism. <em>(Filmed at TEDxEast.)</em>\n",
      "1281 : Diane Kelly: What we didn't know about penis anatomy\n",
      "1323 : Bart Knols: Cheese, dogs and a pill to kill mosquitoes and end malaria\n",
      "1654 : What is killing the Tasmanian devil? A virulent cancer is infecting them by the thousands  -- and unlike most cancers, it's contagious. Researcher Elizabeth Murchison tells us how she's fighting to save the Taz, and what she's learning about all cancers from this unusual strain. Contains disturbing images of facial cancer.\n",
      "1655 : Elizabeth Murchison: Fighting a contagious cancer\n",
      "2099 : Heribert Watzke: The brain in your gut\n",
      "2137 : Mitchell Besser: Mothers helping mothers fight HIV\n",
      "2215 : Matt Ridley: When ideas have sex\n",
      "2295 : William Li: Can we eat to starve cancer?\n",
      "2353 : Elizabeth Pisani: Sex, drugs and HIV -- let's get rational\n",
      "3027 : Einstein the Parrot: A talking, squawking parrot\n",
      "3226 : Investor and prankster Yossi Vardi delivers a ballsy lecture on the dangers of blogging. Specifically, for men.\n",
      "3492 : <i>Freakonomics</i> author Steven Levitt presents new data on the finances of drug dealing. Contrary to popular myth, he says, being a street-corner crack dealer isn’t lucrative: It pays below minimum wage. And your boss can kill you.\n",
      "3497 : David Deutsch: Chemical scum that dream of distant quasars\n"
     ]
    }
   ],
   "source": [
    "for i in pos_inds_2015:\n",
    "    print(i, ':', nl_en_2015_dataset['train']['translation'][i]['en'])"
   ]
  }
 ],
 "metadata": {
  "kernelspec": {
   "display_name": "Python 3",
   "language": "python",
   "name": "python3"
  },
  "language_info": {
   "codemirror_mode": {
    "name": "ipython",
    "version": 3
   },
   "file_extension": ".py",
   "mimetype": "text/x-python",
   "name": "python",
   "nbconvert_exporter": "python",
   "pygments_lexer": "ipython3",
   "version": "3.8.3"
  }
 },
 "nbformat": 4,
 "nbformat_minor": 4
}
