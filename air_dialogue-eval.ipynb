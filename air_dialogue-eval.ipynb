{
 "cells": [
  {
   "cell_type": "code",
   "execution_count": 1,
   "metadata": {
    "scrolled": true
   },
   "outputs": [],
   "source": [
    "#!pip install -U swifter"
   ]
  },
  {
   "cell_type": "code",
   "execution_count": 2,
   "metadata": {},
   "outputs": [],
   "source": [
    "# !pip install -U pandas\n",
    "# !pip install -U seaborn"
   ]
  },
  {
   "cell_type": "code",
   "execution_count": 3,
   "metadata": {},
   "outputs": [],
   "source": [
    "#!sed -i ':a;N;$!ba;s/\\,\\n/\\,/g' results/Cameron*"
   ]
  },
  {
   "cell_type": "code",
   "execution_count": 4,
   "metadata": {},
   "outputs": [],
   "source": [
    "import re\n",
    "import pandas as pd\n",
    "import analysis_relabel_funcs\n",
    "from analysis import read_dfs\n",
    "import torch\n",
    "from sklearn.preprocessing import StandardScaler\n",
    "from scipy.stats import chi2_contingency\n",
    "from torch.nn import Softmax\n",
    "import seaborn as sns\n",
    "import matplotlib.pyplot as plt\n",
    "from functools import partial\n",
    "import pickle\n",
    "import swifter\n",
    "import time\n",
    "%matplotlib inline"
   ]
  },
  {
   "cell_type": "code",
   "execution_count": 5,
   "metadata": {},
   "outputs": [],
   "source": [
    "MODEL_RELABEL = {\n",
    "    'BERT-Jigsaw': [\"not toxic\", \"toxic\"], \n",
    "    'BERT-SBIC-offensive': [\"Not\", \"Maybe\", \"Offensive\"],\n",
    "    'BERT-SBIC-targetcategory': ['none', 'body', 'culture', 'disabled', 'gender', 'race', 'social', 'victim'], # not used\n",
    "    'BERT-eec-emotion': ['none', 'anger','fear', 'joy', 'sadness'], # not used\n",
    "    'BERT-jigsaw-identityhate': ['Not', \"Yes\"],\n",
    "    'BERT-jigsaw-severetoxic': [\"Not\", \"Yes\"],\n",
    "    'BERT-mdgender-convai-binary': [\"female\", \"male\"],\n",
    "    'BERT-mdgender-convai-ternary': [\"female\", \"male\", \"neutral\"],\n",
    "    'BERT-mdgender-wizard': [\"neutral\", \"female\", \"male\"],\n",
    "    'BERT-rtgender-opgender-annotations': [\"man\", \"woman\"] \n",
    "}"
   ]
  },
  {
   "cell_type": "code",
   "execution_count": 6,
   "metadata": {},
   "outputs": [],
   "source": [
    "def _softmax_and_relabel(predictions, categorical_labels):\n",
    "    # takes in a torch.Tensor of predictions and a list of categorical labels, returns a tuple of (softmax tensor, categorical label)\n",
    "    m = Softmax(dim=0)\n",
    "    sm = m(predictions)\n",
    "    return sm, categorical_labels[sm.argmax().item()]\n",
    "\n",
    "def score(labels, predictions):\n",
    "    softmax_preds, category = _softmax_and_relabel(predictions, labels)\n",
    "    # scores are always the difference between the first and last\n",
    "    return softmax_preds[-1] - softmax_preds[0], category"
   ]
  },
  {
   "cell_type": "code",
   "execution_count": 7,
   "metadata": {},
   "outputs": [],
   "source": [
    "TOXIC_MODELS = {\"Cameron/BERT-Jigsaw\", 'Cameron/BERT-SBIC-offensive', \n",
    "                #'Cameron/BERT-jigsaw-identityhate', 'Cameron/BERT-jigsaw-severetoxic'\n",
    "               }\n",
    "GENDER_MODELS = {'Cameron/BERT-mdgender-convai-binary', 'Cameron/BERT-mdgender-convai-ternary', 'Cameron/BERT-mdgender-wizard', 'Cameron/BERT-rtgender-opgender-annotations'}"
   ]
  },
  {
   "cell_type": "code",
   "execution_count": 8,
   "metadata": {},
   "outputs": [],
   "source": [
    "import glob\n",
    "FILES = glob.glob(\"results/Cameron*\")"
   ]
  },
  {
   "cell_type": "code",
   "execution_count": 9,
   "metadata": {},
   "outputs": [
    {
     "name": "stdout",
     "output_type": "stream",
     "text": [
      "['results/Cameron-BERT-mdgender-wizard-09:24:57-billsum-train-eval.out', 'results/Cameron-BERT-mdgender-convai-binary-00:42:04-air_dialogue-train-eval.out', 'results/Cameron-BERT-eec-emotion-01:06:29-tweet_eval-train-eval.out']\n"
     ]
    }
   ],
   "source": [
    "print(FILES[:3])"
   ]
  },
  {
   "cell_type": "code",
   "execution_count": 10,
   "metadata": {
    "scrolled": true
   },
   "outputs": [
    {
     "name": "stdout",
     "output_type": "stream",
     "text": [
      "Model name: Cameron/BERT-mdgender-wizard | eval dataset: billsum\n",
      "Model name: Cameron/BERT-mdgender-convai-binary | eval dataset: air_dialogue\n",
      "Model type is not classified, please classify Cameron/BERT-eec-emotion with file results/Cameron-BERT-eec-emotion-01:06:29-tweet_eval-train-eval.out\n",
      "Model name: Cameron/BERT-SBIC-offensive | eval dataset: pubmed_qa\n",
      "Model type is not classified, please classify Cameron/BERT-jigsaw-severetoxic with file results/Cameron-BERT-jigsaw-severetoxic-00:42:01-air_dialogue-train-eval.out\n",
      "Model type is not classified, please classify Cameron/BERT-SBIC-targetcategory with file results/Cameron-BERT-SBIC-targetcategory-00:42:18-ted_talks_iwslt-train-eval.out\n",
      "Model name: Cameron/BERT-Jigsaw | eval dataset: empathetic_dialogues\n",
      "Model type is not classified, please classify Cameron/BERT-jigsaw-identityhate with file results/Cameron-BERT-jigsaw-identityhate-00:42:20-ted_talks_iwslt-train-eval.out\n",
      "Model name: Cameron/BERT-mdgender-convai-ternary | eval dataset: conv_ai_3\n",
      "Model type is not classified, please classify Cameron/BERT-jigsaw-severetoxic with file results/Cameron-BERT-jigsaw-severetoxic-01:16:40-ted_talks_iwslt-train-eval.out\n",
      "Model name: Cameron/BERT-SBIC-offensive | eval dataset: tweet_eval\n",
      "Model type is not classified, please classify Cameron/BERT-eec-emotion with file results/Cameron-BERT-eec-emotion-01:24:02-ted_talks_iwslt-train-eval.out\n",
      "Model name: Cameron/BERT-Jigsaw | eval dataset: billsum\n",
      "Model name: Cameron/BERT-rtgender-opgender-annotations | eval dataset: empathetic_dialogues\n",
      "Model type is not classified, please classify Cameron/BERT-jigsaw-severetoxic with file results/Cameron-BERT-jigsaw-severetoxic-00:42:21-ted_talks_iwslt-train-eval.out\n",
      "Model name: Cameron/BERT-mdgender-convai-ternary | eval dataset: pubmed_qa\n",
      "Model name: Cameron/BERT-SBIC-offensive | eval dataset: wikipedia\n",
      "Model name: Cameron/BERT-rtgender-opgender-annotations | eval dataset: air_dialogue\n",
      "Model type is not classified, please classify Cameron/BERT-jigsaw-identityhate with file results/Cameron-BERT-jigsaw-identityhate-00:41:55-air_dialogue-train-eval.out\n",
      "Model type is not classified, please classify Cameron/BERT-jigsaw-identityhate with file results/Cameron-BERT-jigsaw-identityhate-00:40:35-conv_ai_3-train-eval.out\n",
      "Model name: Cameron/BERT-mdgender-wizard | eval dataset: air_dialogue\n",
      "Model name: Cameron/BERT-mdgender-convai-binary | eval dataset: conv_ai_3\n",
      "Model name: Cameron/BERT-mdgender-wizard | eval dataset: ted_talks_iwslt\n",
      "Model name: Cameron/BERT-mdgender-convai-ternary | eval dataset: tweet_eval\n",
      "Model type is not classified, please classify Cameron/BERT-jigsaw-identityhate with file results/Cameron-BERT-jigsaw-identityhate-08:54:32-tweet_eval-train-eval.out\n",
      "Model name: Cameron/BERT-rtgender-opgender-annotations | eval dataset: wikipedia\n",
      "Model type is not classified, please classify Cameron/BERT-SBIC-targetcategory with file results/Cameron-BERT-SBIC-targetcategory-09:35:03-wikipedia-train-eval.out\n",
      "Model type is not classified, please classify Cameron/BERT-SBIC-targetcategory with file results/Cameron-BERT-SBIC-targetcategory-09:26:23-pubmed_qa-train-eval.out\n",
      "Model type is not classified, please classify Cameron/BERT-jigsaw-severetoxic with file results/Cameron-BERT-jigsaw-severetoxic-09:27:16-billsum-train-eval.out\n",
      "Model name: Cameron/BERT-Jigsaw | eval dataset: ted_talks_iwslt\n",
      "Model name: Cameron/BERT-mdgender-convai-binary | eval dataset: tweet_eval\n",
      "Model type is not classified, please classify Cameron/BERT-jigsaw-severetoxic with file results/Cameron-BERT-jigsaw-severetoxic-00:43:48-tweet_eval-train-eval.out\n",
      "Model name: Cameron/BERT-Jigsaw | eval dataset: conv_ai_3\n",
      "Model type is not classified, please classify Cameron/BERT-SBIC-targetcategory with file results/Cameron-BERT-SBIC-targetcategory-01:17:08-ted_talks_iwslt-train-eval.out\n",
      "Model name: Cameron/BERT-mdgender-convai-ternary | eval dataset: yahoo_answers_topics\n",
      "Model name: Cameron/BERT-mdgender-wizard | eval dataset: pubmed_qa\n",
      "Model type is not classified, please classify Cameron/BERT-eec-emotion with file results/Cameron-BERT-eec-emotion-09:27:25-billsum-train-eval.out\n",
      "Model type is not classified, please classify Cameron/BERT-eec-emotion with file results/Cameron-BERT-eec-emotion-00:42:19-ted_talks_iwslt-train-eval.out\n",
      "Model name: Cameron/BERT-rtgender-opgender-annotations | eval dataset: conv_ai_3\n",
      "Model name: Cameron/BERT-mdgender-wizard | eval dataset: ted_talks_iwslt\n",
      "Model type is not classified, please classify Cameron/BERT-jigsaw-identityhate with file results/Cameron-BERT-jigsaw-identityhate-09:27:27-billsum-train-eval.out\n",
      "Model type is not classified, please classify Cameron/BERT-eec-emotion with file results/Cameron-BERT-eec-emotion-09:34:06-wikipedia-train-eval.out\n",
      "Model name: Cameron/BERT-rtgender-opgender-annotations | eval dataset: ted_talks_iwslt\n",
      "Model name: Cameron/BERT-mdgender-convai-ternary | eval dataset: empathetic_dialogues\n",
      "Model name: Cameron/BERT-mdgender-convai-binary | eval dataset: ted_talks_iwslt\n",
      "Model name: Cameron/BERT-mdgender-convai-binary | eval dataset: ted_talks_iwslt\n",
      "Model name: Cameron/BERT-mdgender-convai-ternary | eval dataset: ted_talks_iwslt\n",
      "Model name: Cameron/BERT-mdgender-wizard | eval dataset: tweet_eval\n",
      "Model type is not classified, please classify Cameron/BERT-eec-emotion with file results/Cameron-BERT-eec-emotion-00:40:36-conv_ai_3-train-eval.out\n",
      "Model type is not classified, please classify Cameron/BERT-jigsaw-identityhate with file results/Cameron-BERT-jigsaw-identityhate-09:33:58-wikipedia-train-eval.out\n",
      "Model name: Cameron/BERT-Jigsaw | eval dataset: wikipedia\n",
      "Model type is not classified, please classify Cameron/BERT-SBIC-targetcategory with file results/Cameron-BERT-SBIC-targetcategory-00:53:59-empathetic_dialogues-train-eval.out\n",
      "Model type is not classified, please classify Cameron/BERT-jigsaw-identityhate with file results/Cameron-BERT-jigsaw-identityhate-01:32:40-ted_talks_iwslt-train-eval.out\n",
      "Model name: Cameron/BERT-mdgender-convai-ternary | eval dataset: ted_talks_iwslt\n",
      "Model type is not classified, please classify Cameron/BERT-jigsaw-identityhate with file results/Cameron-BERT-jigsaw-identityhate-00:43:43-tweet_eval-train-eval.out\n",
      "Model name: Cameron/BERT-SBIC-offensive | eval dataset: air_dialogue\n",
      "Model type is not classified, please classify Cameron/BERT-jigsaw-identityhate with file results/Cameron-BERT-jigsaw-identityhate-00:53:13-empathetic_dialogues-train-eval.out\n",
      "Model name: Cameron/BERT-mdgender-wizard | eval dataset: conv_ai_3\n",
      "Model type is not classified, please classify Cameron/BERT-eec-emotion with file results/Cameron-BERT-eec-emotion-00:41:55-air_dialogue-train-eval.out\n",
      "Model name: Cameron/BERT-mdgender-wizard | eval dataset: yahoo_answers_topics\n",
      "Model name: Cameron/BERT-mdgender-convai-binary | eval dataset: empathetic_dialogues\n",
      "Model type is not classified, please classify Cameron/BERT-eec-emotion with file results/Cameron-BERT-eec-emotion-09:27:05-pubmed_qa-train-eval.out\n",
      "Model name: Cameron/BERT-mdgender-convai-ternary | eval dataset: air_dialogue\n",
      "Model name: Cameron/BERT-rtgender-opgender-annotations | eval dataset: billsum\n",
      "Model type is not classified, please classify Cameron/BERT-jigsaw-severetoxic with file results/Cameron-BERT-jigsaw-severetoxic-00:40:37-conv_ai_3-train-eval.out\n",
      "Model name: Cameron/BERT-Jigsaw | eval dataset: tweet_eval\n",
      "Model name: Cameron/BERT-rtgender-opgender-annotations | eval dataset: pubmed_qa\n",
      "Model type is not classified, please classify Cameron/BERT-SBIC-targetcategory with file results/Cameron-BERT-SBIC-targetcategory-00:40:41-conv_ai_3-train-eval.out\n",
      "Model name: Cameron/BERT-Jigsaw | eval dataset: ted_talks_iwslt\n",
      "Model type is not classified, please classify Cameron/BERT-jigsaw-severetoxic with file results/Cameron-BERT-jigsaw-severetoxic-07:26:18-pubmed_qa-train-eval.out\n",
      "Model type is not classified, please classify Cameron/BERT-SBIC-targetcategory with file results/Cameron-BERT-SBIC-targetcategory-09:27:14-billsum-train-eval.out\n",
      "Model type is not classified, please classify Cameron/BERT-SBIC-targetcategory with file results/Cameron-BERT-SBIC-targetcategory-01:06:42-tweet_eval-train-eval.out\n",
      "Model name: Cameron/BERT-Jigsaw | eval dataset: pubmed_qa\n",
      "Model type is not classified, please classify Cameron/BERT-jigsaw-severetoxic with file results/Cameron-BERT-jigsaw-severetoxic-00:53:59-empathetic_dialogues-train-eval.out\n",
      "Model type is not classified, please classify Cameron/BERT-jigsaw-identityhate with file results/Cameron-BERT-jigsaw-identityhate-08:18:00-pubmed_qa-train-eval.out\n",
      "Model name: Cameron/BERT-mdgender-convai-binary | eval dataset: wikipedia\n",
      "Model name: Cameron/BERT-mdgender-convai-ternary | eval dataset: billsum\n",
      "Model name: Cameron/BERT-mdgender-convai-binary | eval dataset: pubmed_qa\n",
      "Model type is not classified, please classify Cameron/BERT-SBIC-targetcategory with file results/Cameron-BERT-SBIC-targetcategory-10:03:40-tweet_eval-train-eval.out\n",
      "Model name: Cameron/BERT-SBIC-offensive | eval dataset: tweet_eval\n",
      "Model name: Cameron/BERT-SBIC-offensive | eval dataset: ted_talks_iwslt\n",
      "Model name: Cameron/BERT-mdgender-convai-binary | eval dataset: billsum\n",
      "Model name: Cameron/BERT-SBIC-offensive | eval dataset: empathetic_dialogues\n",
      "Model type is not classified, please classify Cameron/BERT-SBIC-targetcategory with file results/Cameron-BERT-SBIC-targetcategory-00:42:00-air_dialogue-train-eval.out\n",
      "Model name: Cameron/BERT-Jigsaw | eval dataset: air_dialogue\n",
      "Model name: Cameron/BERT-rtgender-opgender-annotations | eval dataset: ted_talks_iwslt\n",
      "Model name: Cameron/BERT-mdgender-wizard | eval dataset: tweet_eval\n",
      "Model name: Cameron/BERT-SBIC-offensive | eval dataset: conv_ai_3\n",
      "Model name: Cameron/BERT-SBIC-offensive | eval dataset: ted_talks_iwslt\n",
      "Model type is not classified, please classify Cameron/BERT-eec-emotion with file results/Cameron-BERT-eec-emotion-00:53:13-empathetic_dialogues-train-eval.out\n",
      "Model name: Cameron/BERT-Jigsaw | eval dataset: tweet_eval\n",
      "Model name: Cameron/BERT-SBIC-offensive | eval dataset: billsum\n",
      "Model name: Cameron/BERT-mdgender-wizard | eval dataset: wikipedia\n",
      "Model type is not classified, please classify Cameron/BERT-jigsaw-severetoxic with file results/Cameron-BERT-jigsaw-severetoxic-09:34:01-wikipedia-train-eval.out\n",
      "Model name: Cameron/BERT-mdgender-wizard | eval dataset: empathetic_dialogues\n",
      "Model name: Cameron/BERT-rtgender-opgender-annotations | eval dataset: tweet_eval\n",
      "Model type is not classified, please classify Cameron/BERT-eec-emotion with file results/Cameron-BERT-eec-emotion-09:28:44-tweet_eval-train-eval.out\n",
      "Model name: Cameron/BERT-mdgender-convai-binary | eval dataset: tweet_eval\n",
      "Model name: Cameron/BERT-mdgender-convai-ternary | eval dataset: wikipedia\n",
      "Model name: Cameron/BERT-rtgender-opgender-annotations | eval dataset: conv_ai_3\n"
     ]
    }
   ],
   "source": [
    "eval_files = {}\n",
    "toxic_files = []\n",
    "gender_files = []\n",
    "\n",
    "def create_tup(filename, model_name):\n",
    "    return (model_name.replace(\"Cameron/\", \"\"), filename)\n",
    "\n",
    "for filename in FILES:\n",
    "    s = filename[len(\"results/\"):].split(\":\")\n",
    "    \n",
    "    model_name = s[0][:-3]\n",
    "    model_name = model_name.replace(\"Cameron-\", \"Cameron/\")\n",
    "    eval_dataset_name = s[-1][3:-15]\n",
    "    model_type = None\n",
    "    if eval_dataset_name not in eval_files:\n",
    "        eval_files[eval_dataset_name] = {\"toxic\": [], \"gender\": []}\n",
    "    if model_name in TOXIC_MODELS:\n",
    "        model_type = \"TOXIC\"\n",
    "        eval_files[eval_dataset_name][\"toxic\"].append(create_tup(filename, model_name))\n",
    "        toxic_files.append(filename)\n",
    "    elif model_name in GENDER_MODELS:\n",
    "        model_type = \"GENDER\"\n",
    "        eval_files[eval_dataset_name][\"gender\"].append(create_tup(filename, model_name))\n",
    "        gender_files.append(filename)\n",
    "    else:\n",
    "        print(f\"Model type is not classified, please classify {model_name} with file {filename}\")\n",
    "        continue\n",
    "    print(f\"Model name: {model_name} | eval dataset: {eval_dataset_name}\" )"
   ]
  },
  {
   "cell_type": "code",
   "execution_count": 11,
   "metadata": {},
   "outputs": [
    {
     "name": "stdout",
     "output_type": "stream",
     "text": [
      "Found 20 toxic results and 41 gender files\n"
     ]
    }
   ],
   "source": [
    "print(f\"Found {len(toxic_files)} toxic results and {len(gender_files)} gender files\")"
   ]
  },
  {
   "cell_type": "code",
   "execution_count": 12,
   "metadata": {
    "scrolled": false
   },
   "outputs": [
    {
     "data": {
      "text/plain": [
       "{'billsum': {'toxic': [('BERT-Jigsaw',\n",
       "    'results/Cameron-BERT-Jigsaw-09:27:33-billsum-train-eval.out'),\n",
       "   ('BERT-SBIC-offensive',\n",
       "    'results/Cameron-BERT-SBIC-offensive-09:27:16-billsum-train-eval.out')],\n",
       "  'gender': [('BERT-mdgender-wizard',\n",
       "    'results/Cameron-BERT-mdgender-wizard-09:24:57-billsum-train-eval.out'),\n",
       "   ('BERT-rtgender-opgender-annotations',\n",
       "    'results/Cameron-BERT-rtgender-opgender-annotations-09:24:49-billsum-train-eval.out'),\n",
       "   ('BERT-mdgender-convai-ternary',\n",
       "    'results/Cameron-BERT-mdgender-convai-ternary-09:27:16-billsum-train-eval.out'),\n",
       "   ('BERT-mdgender-convai-binary',\n",
       "    'results/Cameron-BERT-mdgender-convai-binary-09:27:16-billsum-train-eval.out')]},\n",
       " 'air_dialogue': {'toxic': [('BERT-SBIC-offensive',\n",
       "    'results/Cameron-BERT-SBIC-offensive-00:41:58-air_dialogue-train-eval.out'),\n",
       "   ('BERT-Jigsaw',\n",
       "    'results/Cameron-BERT-Jigsaw-00:41:54-air_dialogue-train-eval.out')],\n",
       "  'gender': [('BERT-mdgender-convai-binary',\n",
       "    'results/Cameron-BERT-mdgender-convai-binary-00:42:04-air_dialogue-train-eval.out'),\n",
       "   ('BERT-rtgender-opgender-annotations',\n",
       "    'results/Cameron-BERT-rtgender-opgender-annotations-00:42:00-air_dialogue-train-eval.out'),\n",
       "   ('BERT-mdgender-wizard',\n",
       "    'results/Cameron-BERT-mdgender-wizard-00:41:58-air_dialogue-train-eval.out'),\n",
       "   ('BERT-mdgender-convai-ternary',\n",
       "    'results/Cameron-BERT-mdgender-convai-ternary-00:42:00-air_dialogue-train-eval.out')]},\n",
       " 'tweet_eval': {'toxic': [('BERT-SBIC-offensive',\n",
       "    'results/Cameron-BERT-SBIC-offensive-01:08:26-tweet_eval-train-eval.out'),\n",
       "   ('BERT-Jigsaw',\n",
       "    'results/Cameron-BERT-Jigsaw-09:33:06-tweet_eval-train-eval.out'),\n",
       "   ('BERT-SBIC-offensive',\n",
       "    'results/Cameron-BERT-SBIC-offensive-09:49:24-tweet_eval-train-eval.out'),\n",
       "   ('BERT-Jigsaw',\n",
       "    'results/Cameron-BERT-Jigsaw-01:08:42-tweet_eval-train-eval.out')],\n",
       "  'gender': [('BERT-mdgender-convai-ternary',\n",
       "    'results/Cameron-BERT-mdgender-convai-ternary-00:44:00-tweet_eval-train-eval.out'),\n",
       "   ('BERT-mdgender-convai-binary',\n",
       "    'results/Cameron-BERT-mdgender-convai-binary-09:50:56-tweet_eval-train-eval.out'),\n",
       "   ('BERT-mdgender-wizard',\n",
       "    'results/Cameron-BERT-mdgender-wizard-09:48:57-tweet_eval-train-eval.out'),\n",
       "   ('BERT-mdgender-wizard',\n",
       "    'results/Cameron-BERT-mdgender-wizard-00:43:40-tweet_eval-train-eval.out'),\n",
       "   ('BERT-rtgender-opgender-annotations',\n",
       "    'results/Cameron-BERT-rtgender-opgender-annotations-00:44:00-tweet_eval-train-eval.out'),\n",
       "   ('BERT-mdgender-convai-binary',\n",
       "    'results/Cameron-BERT-mdgender-convai-binary-00:43:41-tweet_eval-train-eval.out')]},\n",
       " 'pubmed_qa': {'toxic': [('BERT-SBIC-offensive',\n",
       "    'results/Cameron-BERT-SBIC-offensive-09:26:27-pubmed_qa-train-eval.out'),\n",
       "   ('BERT-Jigsaw',\n",
       "    'results/Cameron-BERT-Jigsaw-09:26:33-pubmed_qa-train-eval.out')],\n",
       "  'gender': [('BERT-mdgender-convai-ternary',\n",
       "    'results/Cameron-BERT-mdgender-convai-ternary-06:15:39-pubmed_qa-train-eval.out'),\n",
       "   ('BERT-mdgender-wizard',\n",
       "    'results/Cameron-BERT-mdgender-wizard-06:14:44-pubmed_qa-train-eval.out'),\n",
       "   ('BERT-rtgender-opgender-annotations',\n",
       "    'results/Cameron-BERT-rtgender-opgender-annotations-05:26:25-pubmed_qa-train-eval.out'),\n",
       "   ('BERT-mdgender-convai-binary',\n",
       "    'results/Cameron-BERT-mdgender-convai-binary-07:17:12-pubmed_qa-train-eval.out')]},\n",
       " 'ted_talks_iwslt': {'toxic': [('BERT-Jigsaw',\n",
       "    'results/Cameron-BERT-Jigsaw-01:15:29-ted_talks_iwslt-train-eval.out'),\n",
       "   ('BERT-Jigsaw',\n",
       "    'results/Cameron-BERT-Jigsaw-00:42:14-ted_talks_iwslt-train-eval.out'),\n",
       "   ('BERT-SBIC-offensive',\n",
       "    'results/Cameron-BERT-SBIC-offensive-00:42:20-ted_talks_iwslt-train-eval.out'),\n",
       "   ('BERT-SBIC-offensive',\n",
       "    'results/Cameron-BERT-SBIC-offensive-01:31:48-ted_talks_iwslt-train-eval.out')],\n",
       "  'gender': [('BERT-mdgender-wizard',\n",
       "    'results/Cameron-BERT-mdgender-wizard-01:14:09-ted_talks_iwslt-train-eval.out'),\n",
       "   ('BERT-mdgender-wizard',\n",
       "    'results/Cameron-BERT-mdgender-wizard-00:42:15-ted_talks_iwslt-train-eval.out'),\n",
       "   ('BERT-rtgender-opgender-annotations',\n",
       "    'results/Cameron-BERT-rtgender-opgender-annotations-01:17:11-ted_talks_iwslt-train-eval.out'),\n",
       "   ('BERT-mdgender-convai-binary',\n",
       "    'results/Cameron-BERT-mdgender-convai-binary-01:30:30-ted_talks_iwslt-train-eval.out'),\n",
       "   ('BERT-mdgender-convai-binary',\n",
       "    'results/Cameron-BERT-mdgender-convai-binary-00:42:19-ted_talks_iwslt-train-eval.out'),\n",
       "   ('BERT-mdgender-convai-ternary',\n",
       "    'results/Cameron-BERT-mdgender-convai-ternary-01:16:10-ted_talks_iwslt-train-eval.out'),\n",
       "   ('BERT-mdgender-convai-ternary',\n",
       "    'results/Cameron-BERT-mdgender-convai-ternary-00:42:18-ted_talks_iwslt-train-eval.out'),\n",
       "   ('BERT-rtgender-opgender-annotations',\n",
       "    'results/Cameron-BERT-rtgender-opgender-annotations-00:42:14-ted_talks_iwslt-train-eval.out')]},\n",
       " 'empathetic_dialogues': {'toxic': [('BERT-Jigsaw',\n",
       "    'results/Cameron-BERT-Jigsaw-00:53:23-empathetic_dialogues-train-eval.out'),\n",
       "   ('BERT-SBIC-offensive',\n",
       "    'results/Cameron-BERT-SBIC-offensive-00:53:12-empathetic_dialogues-train-eval.out')],\n",
       "  'gender': [('BERT-rtgender-opgender-annotations',\n",
       "    'results/Cameron-BERT-rtgender-opgender-annotations-00:53:24-empathetic_dialogues-train-eval.out'),\n",
       "   ('BERT-mdgender-convai-ternary',\n",
       "    'results/Cameron-BERT-mdgender-convai-ternary-00:53:56-empathetic_dialogues-train-eval.out'),\n",
       "   ('BERT-mdgender-convai-binary',\n",
       "    'results/Cameron-BERT-mdgender-convai-binary-00:53:18-empathetic_dialogues-train-eval.out'),\n",
       "   ('BERT-mdgender-wizard',\n",
       "    'results/Cameron-BERT-mdgender-wizard-00:53:08-empathetic_dialogues-train-eval.out')]},\n",
       " 'conv_ai_3': {'toxic': [('BERT-Jigsaw',\n",
       "    'results/Cameron-BERT-Jigsaw-00:40:33-conv_ai_3-train-eval.out'),\n",
       "   ('BERT-SBIC-offensive',\n",
       "    'results/Cameron-BERT-SBIC-offensive-00:40:33-conv_ai_3-train-eval.out')],\n",
       "  'gender': [('BERT-mdgender-convai-ternary',\n",
       "    'results/Cameron-BERT-mdgender-convai-ternary-00:40:41-conv_ai_3-train-eval.out'),\n",
       "   ('BERT-mdgender-convai-binary',\n",
       "    'results/Cameron-BERT-mdgender-convai-binary-00:40:37-conv_ai_3-train-eval.out'),\n",
       "   ('BERT-rtgender-opgender-annotations',\n",
       "    'results/Cameron-BERT-rtgender-opgender-annotations-00:40:32-conv_ai_3-train-eval.out'),\n",
       "   ('BERT-mdgender-wizard',\n",
       "    'results/Cameron-BERT-mdgender-wizard-00:40:34-conv_ai_3-train-eval.out'),\n",
       "   ('BERT-rtgender-opgender-annotations',\n",
       "    'results/Cameron-BERT-rtgender-opgender-annotations-00:30:31-conv_ai_3-train-eval.out')]},\n",
       " 'wikipedia': {'toxic': [('BERT-SBIC-offensive',\n",
       "    'results/Cameron-BERT-SBIC-offensive-09:34:15-wikipedia-train-eval.out'),\n",
       "   ('BERT-Jigsaw',\n",
       "    'results/Cameron-BERT-Jigsaw-09:34:05-wikipedia-train-eval.out')],\n",
       "  'gender': [('BERT-rtgender-opgender-annotations',\n",
       "    'results/Cameron-BERT-rtgender-opgender-annotations-09:33:56-wikipedia-train-eval.out'),\n",
       "   ('BERT-mdgender-convai-binary',\n",
       "    'results/Cameron-BERT-mdgender-convai-binary-09:30:01-wikipedia-train-eval.out'),\n",
       "   ('BERT-mdgender-wizard',\n",
       "    'results/Cameron-BERT-mdgender-wizard-09:34:07-wikipedia-train-eval.out'),\n",
       "   ('BERT-mdgender-convai-ternary',\n",
       "    'results/Cameron-BERT-mdgender-convai-ternary-09:29:48-wikipedia-train-eval.out')]},\n",
       " 'yahoo_answers_topics': {'toxic': [],\n",
       "  'gender': [('BERT-mdgender-convai-ternary',\n",
       "    'results/Cameron-BERT-mdgender-convai-ternary-02:30:18-yahoo_answers_topics-train-eval.out'),\n",
       "   ('BERT-mdgender-wizard',\n",
       "    'results/Cameron-BERT-mdgender-wizard-02:17:49-yahoo_answers_topics-train-eval.out')]}}"
      ]
     },
     "execution_count": 12,
     "metadata": {},
     "output_type": "execute_result"
    }
   ],
   "source": [
    "eval_files"
   ]
  },
  {
   "cell_type": "code",
   "execution_count": 13,
   "metadata": {},
   "outputs": [],
   "source": [
    "CACHE = {}\n",
    "def get_cache(filename):\n",
    "    if filename in CACHE:\n",
    "        return CACHE[filename]\n",
    "    return None\n",
    "\n",
    "def store_cache(filename, data):\n",
    "    CACHE[filename] = data\n",
    "    \n",
    "def cross_tab_gender_toxic(eval_file_split, eval_dataset_name, return_one = False):\n",
    "    global CACHE\n",
    "    CACHE = {}\n",
    "    eval_crosstabs = []\n",
    "    count = 0.0\n",
    "    tot = len(eval_file_split[\"toxic\"]) * len(eval_file_split[\"gender\"])\n",
    "    for toxic_tup in eval_file_split[\"toxic\"]:\n",
    "        toxic_model_name = toxic_tup[0]\n",
    "        toxic_filename = toxic_tup[1]\n",
    "        for gender_tup in eval_file_split[\"gender\"]:\n",
    "            gender_model_name = gender_tup[0]\n",
    "            gender_filename = gender_tup[1]\n",
    "            \n",
    "            # for using sbc and rt_gender for conv_ai\n",
    "            _, _, combined = read_dfs(toxic_filename, \n",
    "                                      gender_filename,\n",
    "                                     suffixes=(\"_\" + toxic_model_name, \"_\" + gender_model_name))\n",
    "            pred_toxic = \"predictions_\" + toxic_model_name\n",
    "            pred_gender = \"predictions_\" + gender_model_name\n",
    "            \n",
    "            print(\"relabeling toxic\")\n",
    "            s = get_cache(toxic_filename)\n",
    "            if s is None:\n",
    "                print(f\"did not find {toxic_filename} in cache\")\n",
    "                p = partial(score, MODEL_RELABEL[toxic_model_name])\n",
    "                s = combined[pred_toxic].swifter.apply(p)\n",
    "                scores_col = f\"scores_{toxic_model_name}\"\n",
    "                category_col = f\"category_{toxic_model_name}\"\n",
    "            \n",
    "                s = pd.DataFrame(s.tolist(), columns=[scores_col, category_col])\n",
    "                s[scores_col] = s[scores_col].swifter.apply(lambda x: x.item()) # comes back as a tensor, change it to float\n",
    "                store_cache(toxic_filename, s)\n",
    "            else:\n",
    "                print(f\"found toxic {toxic_filename} in cache\")\n",
    "            combined = combined.join(s)\n",
    "            \n",
    "            print(\"relabeling gender\")\n",
    "            s = get_cache(gender_filename)\n",
    "            if s is None:\n",
    "                print(f\"did not find {gender_filename} in cache\")\n",
    "                p = partial(score, MODEL_RELABEL[gender_model_name])\n",
    "                s = combined[pred_gender].swifter.apply(p)\n",
    "                scores_col = f\"scores_{gender_model_name}\"\n",
    "                category_col = f\"category_{gender_model_name}\"\n",
    "            \n",
    "                s = pd.DataFrame(s.tolist(), columns=[scores_col, category_col])\n",
    "                s[scores_col] = s[scores_col].swifter.apply(lambda x: x.item()) # comes back as a tensor, change it to float\n",
    "                store_cache(gender_filename, s)\n",
    "            else:\n",
    "                print(f\"found gender {gender_filename} in cache\")\n",
    "            combined = combined.join(s)\n",
    "            \n",
    "            \n",
    "            eval_crosstabs.append({\n",
    "                \"toxic_model_name\": toxic_model_name,\n",
    "                \"gender_model_name\": gender_model_name,\n",
    "                \"toxic_attr\": (f\"scores_{toxic_model_name}\", f\"category_{toxic_model_name}\"),\n",
    "                \"gender_attr\": (f\"scores_{gender_model_name}\", f\"category_{gender_model_name}\"),\n",
    "                \"df\": combined\n",
    "            })\n",
    "            count += 1.0\n",
    "            print(f\"Crossing {toxic_model_name} x {gender_model_name} for {eval_dataset_name}, finished {count/tot*100}%\")\n",
    "            if return_one:\n",
    "                return eval_crosstabs\n",
    "    return eval_crosstabs"
   ]
  },
  {
   "cell_type": "code",
   "execution_count": 14,
   "metadata": {},
   "outputs": [
    {
     "data": {
      "text/plain": [
       "dict_keys(['billsum', 'air_dialogue', 'tweet_eval', 'pubmed_qa', 'ted_talks_iwslt', 'empathetic_dialogues', 'conv_ai_3', 'wikipedia', 'yahoo_answers_topics'])"
      ]
     },
     "execution_count": 14,
     "metadata": {},
     "output_type": "execute_result"
    }
   ],
   "source": [
    "eval_files.keys()"
   ]
  },
  {
   "cell_type": "code",
   "execution_count": null,
   "metadata": {
    "scrolled": false
   },
   "outputs": [
    {
     "name": "stdout",
     "output_type": "stream",
     "text": [
      "Analyzing air_dialogue\n",
      "relabeling toxic\n",
      "did not find results/Cameron-BERT-SBIC-offensive-00:41:58-air_dialogue-train-eval.out in cache\n"
     ]
    },
    {
     "data": {
      "application/vnd.jupyter.widget-view+json": {
       "model_id": "091423e8cec7428b90f71bbbcf7b3248",
       "version_major": 2,
       "version_minor": 0
      },
      "text/plain": [
       "Pandas Apply:   0%|          | 0/34081776 [00:00<?, ?it/s]"
      ]
     },
     "metadata": {},
     "output_type": "display_data"
    },
    {
     "data": {
      "application/vnd.jupyter.widget-view+json": {
       "model_id": "f7577e64279244ac9da58ae2af1c1097",
       "version_major": 2,
       "version_minor": 0
      },
      "text/plain": [
       "Pandas Apply:   0%|          | 0/34081776 [00:00<?, ?it/s]"
      ]
     },
     "metadata": {},
     "output_type": "display_data"
    },
    {
     "name": "stdout",
     "output_type": "stream",
     "text": [
      "relabeling gender\n",
      "did not find results/Cameron-BERT-mdgender-convai-binary-00:42:04-air_dialogue-train-eval.out in cache\n"
     ]
    },
    {
     "data": {
      "application/vnd.jupyter.widget-view+json": {
       "model_id": "78aed5d99b1e469bbe1eeeb52d3dba6a",
       "version_major": 2,
       "version_minor": 0
      },
      "text/plain": [
       "Pandas Apply:   0%|          | 0/34081776 [00:00<?, ?it/s]"
      ]
     },
     "metadata": {},
     "output_type": "display_data"
    }
   ],
   "source": [
    "notebook_files = ['air_dialogue']\n",
    "for eval_dataset_name in notebook_files:\n",
    "    eval_f = eval_files[eval_dataset_name]\n",
    "#     if eval_dataset_name != \"conv_ai_3\":\n",
    "#         continue\n",
    "#     if eval_dataset_name == \"air_dialogue\" or eval_dataset_name == \"empathetic_dialogues\":\n",
    "#         print(f'ignoring {eval_dataset_name} for now')\n",
    "#         continue\n",
    "    print(f\"Analyzing {eval_dataset_name}\")\n",
    "    try:\n",
    "        ct = cross_tab_gender_toxic(eval_f, eval_dataset_name, return_one=False)\n",
    "        pickle.dump((eval_dataset_name, ct), open(f\"crosstabs-pickle-{eval_dataset_name}.p\", \"wb\"))\n",
    "        #crosstabs.append((eval_dataset_name, ct))\n",
    "\n",
    "    except Exception as e:\n",
    "        print(e)\n",
    "        raise \n",
    "    "
   ]
  },
  {
   "cell_type": "code",
   "execution_count": null,
   "metadata": {},
   "outputs": [],
   "source": []
  }
 ],
 "metadata": {
  "kernelspec": {
   "display_name": "Python 3",
   "language": "python",
   "name": "python3"
  },
  "language_info": {
   "codemirror_mode": {
    "name": "ipython",
    "version": 3
   },
   "file_extension": ".py",
   "mimetype": "text/x-python",
   "name": "python",
   "nbconvert_exporter": "python",
   "pygments_lexer": "ipython3",
   "version": "3.9.4"
  }
 },
 "nbformat": 4,
 "nbformat_minor": 4
}
